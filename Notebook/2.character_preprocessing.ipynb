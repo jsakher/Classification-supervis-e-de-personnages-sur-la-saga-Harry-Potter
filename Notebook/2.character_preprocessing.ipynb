{
 "metadata": {
  "language_info": {
   "codemirror_mode": {
    "name": "ipython",
    "version": 3
   },
   "file_extension": ".py",
   "mimetype": "text/x-python",
   "name": "python",
   "nbconvert_exporter": "python",
   "pygments_lexer": "ipython3",
   "version": "3.9.1"
  },
  "orig_nbformat": 2,
  "kernelspec": {
   "name": "python391jvsc74a57bd048c940b1a0169745cfa7f02364c75403232fed0c64e3dce84b9adcd146d0dc24",
   "display_name": "Python 3.9.1 64-bit ('project_M1': conda)"
  }
 },
 "nbformat": 4,
 "nbformat_minor": 2,
 "cells": [
  {
   "cell_type": "code",
   "execution_count": 1,
   "metadata": {},
   "outputs": [],
   "source": [
    "from functions import *"
   ]
  },
  {
   "cell_type": "code",
   "execution_count": 2,
   "metadata": {},
   "outputs": [],
   "source": [
    "df_char = pd.read_csv('../Data/raw_data/Characters.csv', sep=';', encoding='unicode_escape')"
   ]
  },
  {
   "source": [
    "We build a new class for those who aren't in Hogwart's houses."
   ],
   "cell_type": "markdown",
   "metadata": {}
  },
  {
   "cell_type": "code",
   "execution_count": 3,
   "metadata": {},
   "outputs": [
    {
     "output_type": "stream",
     "name": "stderr",
     "text": [
      "<ipython-input-3-1d9af07a797d>:4: SettingWithCopyWarning: \nA value is trying to be set on a copy of a slice from a DataFrame\n\nSee the caveats in the documentation: https://pandas.pydata.org/pandas-docs/stable/user_guide/indexing.html#returning-a-view-versus-a-copy\n  df_char['House'][i] = 'Other'\n"
     ]
    }
   ],
   "source": [
    "houses = ['Gryffindor', 'Ravenclaw', 'Slytherin', 'Hufflepuff']\n",
    "for i in range(len(df_char['House'])):\n",
    "    if df_char['House'][i] not in houses:\n",
    "        df_char['House'][i] = 'Other'"
   ]
  },
  {
   "source": [
    "We delete features we don't want to work with (which seem to be useless)."
   ],
   "cell_type": "markdown",
   "metadata": {}
  },
  {
   "cell_type": "code",
   "execution_count": 4,
   "metadata": {},
   "outputs": [],
   "source": [
    "df_char = df_char.drop([\"Job\", \"Wand\", \"Patronus\", \"Species\", \"Hair colour\", \"Eye colour\", \"Birth\", \"Death\"], axis=1)"
   ]
  },
  {
   "cell_type": "code",
   "execution_count": null,
   "metadata": {},
   "outputs": [],
   "source": [
    "# df_char.to_csv('../Data/temporary_data/Characters.csv', sep=';', index=False)"
   ]
  },
  {
   "source": [
    "After exporting it, we modify the raw file to make charcaters' name fit those in the other dataframes.  \n",
    "  \n",
    "Example :  \n",
    " * Harry Potter beacames Harry\n",
    " * Ginevra (Ginny) Molly Weasley beacames Ginny\n",
    "\n",
    "Then we reorder skills and loyalty columns as lists.\n"
   ],
   "cell_type": "markdown",
   "metadata": {}
  },
  {
   "source": [
    "Finally we make a list containig the new characters appearing in the third film and a new table with them."
   ],
   "cell_type": "markdown",
   "metadata": {}
  },
  {
   "cell_type": "code",
   "execution_count": 5,
   "metadata": {},
   "outputs": [],
   "source": [
    "df_1_2 = pd.read_csv('../Data/temporary_data/Words_by_character_modified.csv', sep=';', encoding='unicode_escape')\n",
    "\n",
    "df3 = pd.read_csv('../Data/temporary_data/Words_by_character_3_modified.csv', sep=';', encoding='unicode_escape')"
   ]
  },
  {
   "cell_type": "code",
   "execution_count": 6,
   "metadata": {},
   "outputs": [],
   "source": [
    "list_character = df_1_2.Character.values.tolist()\n",
    "\n",
    "list_character_3 = df3.Character.values.tolist()"
   ]
  },
  {
   "cell_type": "code",
   "execution_count": 7,
   "metadata": {},
   "outputs": [],
   "source": [
    "list_character = [name.lower() for name in list_character]\n",
    "list_character = [name.strip() for name in list_character]\n",
    "\n",
    "list_character_3 = [name.lower() for name in list_character_3]\n",
    "list_character_3 = [name.strip() for name in list_character_3]"
   ]
  },
  {
   "cell_type": "code",
   "execution_count": 8,
   "metadata": {},
   "outputs": [],
   "source": [
    "new_character_3 = []\n",
    "for character in list_character_3:\n",
    "    if character not in list_character:\n",
    "        new_character_3.append(character)\n",
    "new_character_3 = [string.capwords(name) for name in new_character_3]"
   ]
  },
  {
   "source": [
    "Here is the list of new characters talking in the third film:"
   ],
   "cell_type": "markdown",
   "metadata": {}
  },
  {
   "cell_type": "code",
   "execution_count": 9,
   "metadata": {},
   "outputs": [
    {
     "output_type": "execute_result",
     "data": {
      "text/plain": [
       "['Aunt Marge',\n",
       " 'Bem',\n",
       " 'Boy 1',\n",
       " 'Boy 2',\n",
       " 'Goyle',\n",
       " 'Housekeeper',\n",
       " 'Lupin',\n",
       " 'Madam Rosmerta',\n",
       " 'Pansy Parkinson',\n",
       " 'Parvati Patil',\n",
       " 'Pettigrew',\n",
       " 'Shrunken Head',\n",
       " 'Shrunken Head 1',\n",
       " 'Shrunken Head 2',\n",
       " 'Sirius',\n",
       " 'Stan Shunpike',\n",
       " 'Teacher',\n",
       " 'Trelawney',\n",
       " 'Vendor']"
      ]
     },
     "metadata": {},
     "execution_count": 9
    }
   ],
   "source": [
    "new_character_3"
   ]
  },
  {
   "cell_type": "code",
   "execution_count": 10,
   "metadata": {},
   "outputs": [],
   "source": [
    "df_characters = pd.read_csv('../Data/temporary_data/Characters_modified.csv', sep=';', encoding='unicode_escape')"
   ]
  },
  {
   "cell_type": "code",
   "execution_count": 11,
   "metadata": {},
   "outputs": [],
   "source": [
    "df_char_3 = df_characters.copy()\n",
    "# we make a new df with only the new characters appearing in hp3 whom informations are given\n",
    "for i in range(len(df_char_3)):\n",
    "    if df_char_3.Character[i] not in new_character_3:\n",
    "        df_char_3 = df_char_3.drop([i])\n",
    "\n",
    "df_char_3 = df_char_3.reset_index(drop=True)"
   ]
  },
  {
   "cell_type": "code",
   "execution_count": 12,
   "metadata": {},
   "outputs": [],
   "source": [
    "# df_char_3.to_csv('../Data/temporary_data/New_characters.csv', sep=';', index=False)"
   ]
  },
  {
   "cell_type": "code",
   "execution_count": 13,
   "metadata": {},
   "outputs": [],
   "source": [
    "df_char = df_characters.copy()\n",
    "# we remove the new characters from the df which contains them all\n",
    "for i in range(len(df_char.Character)):\n",
    "    if df_char.Character[i] in new_character_3:\n",
    "        df_char = df_char.drop([i])\n",
    "\n",
    "df_char = df_char.reset_index(drop=True)"
   ]
  },
  {
   "cell_type": "code",
   "execution_count": 14,
   "metadata": {},
   "outputs": [],
   "source": [
    "# df_char.to_csv('../Data/temporary_data/Characters_preprocessed.csv', sep=';', index=False)"
   ]
  }
 ]
}