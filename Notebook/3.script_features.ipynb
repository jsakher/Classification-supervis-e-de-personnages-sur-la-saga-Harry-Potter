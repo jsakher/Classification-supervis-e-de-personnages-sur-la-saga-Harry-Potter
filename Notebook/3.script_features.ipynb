{
 "metadata": {
  "language_info": {
   "codemirror_mode": {
    "name": "ipython",
    "version": 3
   },
   "file_extension": ".py",
   "mimetype": "text/x-python",
   "name": "python",
   "nbconvert_exporter": "python",
   "pygments_lexer": "ipython3",
   "version": "3.9.1"
  },
  "orig_nbformat": 2,
  "kernelspec": {
   "name": "python391jvsc74a57bd048c940b1a0169745cfa7f02364c75403232fed0c64e3dce84b9adcd146d0dc24",
   "display_name": "Python 3.9.1 64-bit ('project_M1': conda)"
  }
 },
 "nbformat": 4,
 "nbformat_minor": 2,
 "cells": [
  {
   "cell_type": "code",
   "execution_count": 1,
   "metadata": {},
   "outputs": [],
   "source": [
    "from functions import *"
   ]
  },
  {
   "source": [
    "# 1.Common words"
   ],
   "cell_type": "markdown",
   "metadata": {}
  },
  {
   "source": [
    "## Firstly, we look for the most pronounced words by each character."
   ],
   "cell_type": "markdown",
   "metadata": {}
  },
  {
   "source": [
    "We begin with the two first films:"
   ],
   "cell_type": "markdown",
   "metadata": {}
  },
  {
   "cell_type": "code",
   "execution_count": 2,
   "metadata": {},
   "outputs": [],
   "source": [
    "data_char = pd.read_csv('../Data/temporary_data/Characters_preprocessed.csv', sep=r'\\;', encoding='unicode_escape', engine='python')\n",
    "data_char.Character = data_char.Character.apply(lambda t : string.capwords(t))"
   ]
  },
  {
   "cell_type": "code",
   "execution_count": 3,
   "metadata": {},
   "outputs": [],
   "source": [
    "data_word = pd.read_csv('../Data/temporary_data/Words_by_character_modified.csv', sep=r'\\;', encoding='unicode_escape', engine='python')\n",
    "data_word = data_word.groupby(['Character']).sum()\n",
    "# We have to gather again lines because when we had split the lines where more than one character was present, some of them were in 2 lines or more.\n",
    "data_word = data_word.rename_axis('Character').reset_index()"
   ]
  },
  {
   "cell_type": "code",
   "execution_count": 4,
   "metadata": {},
   "outputs": [],
   "source": [
    "data_word['Most_common'] = data_word.apply(common_words, axis=1)\n",
    "data_word.Character = data_word.Character.apply(lambda t : string.capwords(t))"
   ]
  },
  {
   "cell_type": "code",
   "execution_count": 5,
   "metadata": {},
   "outputs": [],
   "source": [
    "character_all = data_char.Character.values\n",
    "common_all = []\n",
    "for char in character_all :\n",
    "    t  = list(data_word[data_word.Character == char].Most_common.values)\n",
    "    common_all.append([item for sublist in t for item in sublist])\n",
    "data_common_word = pd.DataFrame(list(zip(character_all, common_all)), columns = ['Character', 'Most_common'])"
   ]
  },
  {
   "source": [
    "Then for the third:"
   ],
   "cell_type": "markdown",
   "metadata": {}
  },
  {
   "cell_type": "code",
   "execution_count": 6,
   "metadata": {},
   "outputs": [],
   "source": [
    "data_char_3 = pd.read_csv('../Data/temporary_data/New_characters.csv', sep=r'\\;', encoding='unicode_escape', engine='python')\n",
    "data_char_3.Character = data_char_3.Character.apply(lambda t : string.capwords(t))"
   ]
  },
  {
   "cell_type": "code",
   "execution_count": 7,
   "metadata": {},
   "outputs": [],
   "source": [
    "data_word_3 = pd.read_csv('../Data/temporary_data/Words_by_character_3_modified.csv', sep=r'\\;', encoding='unicode_escape', engine='python')"
   ]
  },
  {
   "cell_type": "code",
   "execution_count": 8,
   "metadata": {},
   "outputs": [],
   "source": [
    "data_word_3['Most_common'] = data_word_3.apply(common_words, axis=1)\n",
    "data_word_3.Character = data_word_3.Character.apply(lambda t : string.capwords(t))"
   ]
  },
  {
   "cell_type": "code",
   "execution_count": 9,
   "metadata": {},
   "outputs": [],
   "source": [
    "character_3 = data_char_3.Character.values\n",
    "common_3 = []\n",
    "for char in character_3 :\n",
    "    t  = list(data_word_3[data_word_3.Character == char].Most_common.values)\n",
    "    common_3.append([item for sublist in t for item in sublist])\n",
    "data_common_word_3 = pd.DataFrame(list(zip(character_3, common_3)), columns = ['Character', 'Most_common'])"
   ]
  },
  {
   "source": [
    "## Secondly, we set the most pronounced words from the two first films and the third, and match them to the characters."
   ],
   "cell_type": "markdown",
   "metadata": {}
  },
  {
   "source": [
    "### HP1 and HP2"
   ],
   "cell_type": "markdown",
   "metadata": {}
  },
  {
   "cell_type": "code",
   "execution_count": 10,
   "metadata": {},
   "outputs": [],
   "source": [
    "df1 = pd.read_csv('../Data/temporary_data/HP1_preprocessed.csv', sep=';', encoding='unicode_escape')\n",
    "df2 = pd.read_csv('../Data/temporary_data/HP2_preprocessed.csv', sep=';', encoding='unicode_escape')"
   ]
  },
  {
   "cell_type": "code",
   "execution_count": 11,
   "metadata": {},
   "outputs": [],
   "source": [
    "df1['Sentence_cleared'] = df1['Sentence_cleared'].apply(lambda t: ast.literal_eval(t))\n",
    "df2['Sentence_cleared'] = df2['Sentence_cleared'].apply(lambda t: ast.literal_eval(t))\n",
    "\n",
    "text_1 = df1['Sentence_cleared'].sum()\n",
    "text_2 = df2['Sentence_cleared'].sum()"
   ]
  },
  {
   "source": [
    "We chose to consider the 100 first ones (why? is there another amount to consider ?).  \n",
    "Notice that there are 9154 overall words and 2224 unique ones."
   ],
   "cell_type": "markdown",
   "metadata": {}
  },
  {
   "cell_type": "code",
   "execution_count": 12,
   "metadata": {},
   "outputs": [],
   "source": [
    "most_common = Counter((text_1+text_2)).most_common(100)\n",
    "word_common = [most_common[i][0] for i in range(len(most_common))]"
   ]
  },
  {
   "cell_type": "code",
   "execution_count": 13,
   "metadata": {},
   "outputs": [],
   "source": [
    "film_common = []\n",
    "for i in range(len(data_common_word)):\n",
    "    list_tuple = data_common_word.Most_common[i]\n",
    "    test = []\n",
    "    for j in range(len(list_tuple)):\n",
    "        tuple_word = list_tuple[j]\n",
    "        word = tuple_word[0]\n",
    "        if word in word_common:\n",
    "            test.append(tuple_word)\n",
    "    film_common.append(test)\n",
    "data_common_word['In film_common'] = film_common"
   ]
  },
  {
   "source": [
    "### HP3"
   ],
   "cell_type": "markdown",
   "metadata": {}
  },
  {
   "cell_type": "code",
   "execution_count": 14,
   "metadata": {},
   "outputs": [],
   "source": [
    "df3 = pd.read_csv('../Data/temporary_data/HP3_preprocessed.csv', sep=';', encoding='unicode_escape')"
   ]
  },
  {
   "cell_type": "code",
   "execution_count": 15,
   "metadata": {},
   "outputs": [],
   "source": [
    "df3['Sentence_cleared'] = df3['Sentence_cleared'].apply(lambda t: ast.literal_eval(t))\n",
    "\n",
    "text_3 = df3['Sentence_cleared'].sum()"
   ]
  },
  {
   "source": [
    "4287 total words and 1363 unique ones."
   ],
   "cell_type": "markdown",
   "metadata": {}
  },
  {
   "cell_type": "code",
   "execution_count": 16,
   "metadata": {},
   "outputs": [],
   "source": [
    "most_common_3 = Counter(text_3).most_common(100)\n",
    "word_common_3 = [most_common_3[i][0] for i in range(len(most_common_3))]"
   ]
  },
  {
   "cell_type": "code",
   "execution_count": 17,
   "metadata": {},
   "outputs": [],
   "source": [
    "film_common_3 = []\n",
    "for i in range(len(data_common_word_3)):\n",
    "    list_tuple_3 = data_common_word_3.Most_common[i]\n",
    "    test_3 = []\n",
    "    for j in range(len(list_tuple_3)):\n",
    "        tuple_word_3 = list_tuple_3[j]\n",
    "        word_3 = tuple_word_3[0]\n",
    "        if word_3 in word_common_3:\n",
    "            test_3.append(tuple_word_3)\n",
    "    film_common_3.append(test_3)\n",
    "data_common_word_3['In film_common'] = film_common_3"
   ]
  },
  {
   "source": [
    "## Thirdly we build an indicator matrix of the words we want to keep in the model."
   ],
   "cell_type": "markdown",
   "metadata": {}
  },
  {
   "source": [
    "Which words do we keep? We select the words related to Harry Potter's world, removing characters' names."
   ],
   "cell_type": "markdown",
   "metadata": {}
  },
  {
   "cell_type": "code",
   "execution_count": 18,
   "metadata": {},
   "outputs": [],
   "source": [
    "chosen_words = ['professor', 'sir', 'hogwarts', 'slytherin', 'school', 'year', 'gryffindor', 'kill', 'chamber', 'wizard']"
   ]
  },
  {
   "source": [
    "### HP1 and HP2"
   ],
   "cell_type": "markdown",
   "metadata": {}
  },
  {
   "cell_type": "code",
   "execution_count": 19,
   "metadata": {},
   "outputs": [],
   "source": [
    "df_film_common = pd.DataFrame(0, columns=chosen_words, index=data_common_word.Character).rename_axis('Character').reset_index()"
   ]
  },
  {
   "cell_type": "code",
   "execution_count": 20,
   "metadata": {},
   "outputs": [
    {
     "output_type": "stream",
     "name": "stderr",
     "text": [
      "<ipython-input-20-c9b5c6660659>:10: SettingWithCopyWarning: \nA value is trying to be set on a copy of a slice from a DataFrame\n\nSee the caveats in the documentation: https://pandas.pydata.org/pandas-docs/stable/user_guide/indexing.html#returning-a-view-versus-a-copy\n  df_film_common[f'{word}'][i] = occurrence\n"
     ]
    }
   ],
   "source": [
    "for i in range(len(df_film_common)):\n",
    "    list_tuple = data_common_word['In film_common'][i]\n",
    "    test = []\n",
    "    for j in range(len(list_tuple)):\n",
    "        tuple_word = list_tuple[j]\n",
    "        word = tuple_word[0]\n",
    "        occurrence = tuple_word[1]\n",
    "        test.append(tuple_word)\n",
    "        if word in chosen_words:\n",
    "            df_film_common[f'{word}'][i] = occurrence"
   ]
  },
  {
   "source": [
    "### HP3"
   ],
   "cell_type": "markdown",
   "metadata": {}
  },
  {
   "cell_type": "code",
   "execution_count": 21,
   "metadata": {},
   "outputs": [],
   "source": [
    "df_film_common_3 = pd.DataFrame(0, columns=chosen_words, index=data_common_word_3.Character).rename_axis('Character').reset_index()"
   ]
  },
  {
   "cell_type": "code",
   "execution_count": 22,
   "metadata": {},
   "outputs": [
    {
     "output_type": "stream",
     "name": "stderr",
     "text": [
      "<ipython-input-22-58c3e9f5a10f>:10: SettingWithCopyWarning: \nA value is trying to be set on a copy of a slice from a DataFrame\n\nSee the caveats in the documentation: https://pandas.pydata.org/pandas-docs/stable/user_guide/indexing.html#returning-a-view-versus-a-copy\n  df_film_common_3[f'{word_3}'][i] = occurrence_3\n"
     ]
    }
   ],
   "source": [
    "for i in range(len(df_film_common_3)):\n",
    "    list_tuple_3 = data_common_word_3['In film_common'][i]\n",
    "    test_3 = []\n",
    "    for j in range(len(list_tuple_3)):\n",
    "        tuple_word_3 = list_tuple_3[j]\n",
    "        word_3 = tuple_word_3[0]\n",
    "        occurrence_3 = tuple_word_3[1]\n",
    "        test_3.append(tuple_word_3)\n",
    "        if word_3 in chosen_words:\n",
    "            df_film_common_3[f'{word_3}'][i] = occurrence_3"
   ]
  },
  {
   "source": [
    "# 2.Gender"
   ],
   "cell_type": "markdown",
   "metadata": {}
  },
  {
   "source": [
    "## HP1 and HP2"
   ],
   "cell_type": "markdown",
   "metadata": {}
  },
  {
   "cell_type": "code",
   "execution_count": 23,
   "metadata": {},
   "outputs": [],
   "source": [
    "df_gender = data_char[['Character', 'Gender']].copy()\n",
    "\n",
    "for i in range(len(df_gender)):\n",
    "    if df_gender.Gender[i] == 'Male':\n",
    "        df_gender.Gender[i] = 0\n",
    "    else:\n",
    "        df_gender.Gender[i] = 1"
   ]
  },
  {
   "source": [
    "## HP3"
   ],
   "cell_type": "markdown",
   "metadata": {}
  },
  {
   "cell_type": "code",
   "execution_count": 24,
   "metadata": {},
   "outputs": [],
   "source": [
    "df_gender_3 = data_char_3[['Character', 'Gender']].copy()\n",
    "\n",
    "for i in range(len(df_gender_3)):\n",
    "    if df_gender_3.Gender[i] == 'Male':\n",
    "        df_gender_3.Gender[i] = 0\n",
    "    else:\n",
    "        df_gender_3.Gender[i] = 1"
   ]
  },
  {
   "source": [
    "# 3.Word count"
   ],
   "cell_type": "markdown",
   "metadata": {}
  },
  {
   "source": [
    "## HP1 and HP2"
   ],
   "cell_type": "markdown",
   "metadata": {}
  },
  {
   "cell_type": "code",
   "execution_count": 25,
   "metadata": {},
   "outputs": [],
   "source": [
    "df1['Sentence_tokenized'] = df1['Sentence_tokenized'].apply(lambda t: ast.literal_eval(t))\n",
    "df2['Sentence_tokenized'] = df2['Sentence_tokenized'].apply(lambda t: ast.literal_eval(t))"
   ]
  },
  {
   "cell_type": "code",
   "execution_count": 26,
   "metadata": {},
   "outputs": [],
   "source": [
    "df1['Word_count'] = df1.apply(word_count, axis=1)\n",
    "df2['Word_count'] = df2.apply(word_count, axis=1)"
   ]
  },
  {
   "cell_type": "code",
   "execution_count": 27,
   "metadata": {},
   "outputs": [],
   "source": [
    "num_words_1 = df1.groupby('Character').Word_count.sum()  # summing all words pronounced by each character\n",
    "num_words_1 = pd.DataFrame(num_words_1).rename_axis('Character').reset_index()\n",
    "\n",
    "num_words_2 = df2.groupby('Character').Word_count.sum()  # summing all words pronounced by each character\n",
    "num_words_2 = pd.DataFrame(num_words_2).rename_axis('Character').reset_index()"
   ]
  },
  {
   "cell_type": "code",
   "execution_count": 28,
   "metadata": {},
   "outputs": [],
   "source": [
    "df_temp = pd.DataFrame(0, columns=['Word count 1', 'Word count 2'], index=data_char.Character).rename_axis('Character').reset_index()"
   ]
  },
  {
   "cell_type": "code",
   "execution_count": 29,
   "metadata": {},
   "outputs": [
    {
     "output_type": "stream",
     "name": "stderr",
     "text": [
      "<ipython-input-29-b77052397bfe>:4: SettingWithCopyWarning: \nA value is trying to be set on a copy of a slice from a DataFrame\n\nSee the caveats in the documentation: https://pandas.pydata.org/pandas-docs/stable/user_guide/indexing.html#returning-a-view-versus-a-copy\n  df_temp['Word count 1'][j] = num_words_1['Word_count'][i]\n<ipython-input-29-b77052397bfe>:9: SettingWithCopyWarning: \nA value is trying to be set on a copy of a slice from a DataFrame\n\nSee the caveats in the documentation: https://pandas.pydata.org/pandas-docs/stable/user_guide/indexing.html#returning-a-view-versus-a-copy\n  df_temp['Word count 2'][j] = num_words_2['Word_count'][i]\n"
     ]
    }
   ],
   "source": [
    "for i in range(len(num_words_1['Character'])):\n",
    "    for j in range(len(df_temp['Character'])):\n",
    "        if num_words_1['Character'][i] in df_temp['Character'][j]:\n",
    "            df_temp['Word count 1'][j] = num_words_1['Word_count'][i]\n",
    "\n",
    "for i in range(len(num_words_2['Character'])):\n",
    "    for j in range(len(df_temp['Character'])):\n",
    "        if num_words_2['Character'][i] in df_temp['Character'][j]:\n",
    "            df_temp['Word count 2'][j] = num_words_2['Word_count'][i]"
   ]
  },
  {
   "cell_type": "code",
   "execution_count": 30,
   "metadata": {},
   "outputs": [],
   "source": [
    "df_temp['Word count'] = df_temp[['Word count 1', 'Word count 2']].sum(axis=1)\n",
    "\n",
    "total_word = num_words_1['Word_count'].sum() + num_words_2['Word_count'].sum()\n",
    "df_temp['Word freq(%)'] = df_temp['Word count'].apply(lambda t : (t/total_word)*100)\n",
    "\n",
    "df_count = df_temp[['Character', 'Word freq(%)']]"
   ]
  },
  {
   "source": [
    "## HP3"
   ],
   "cell_type": "markdown",
   "metadata": {}
  },
  {
   "cell_type": "code",
   "execution_count": 31,
   "metadata": {},
   "outputs": [],
   "source": [
    "df3['Sentence_tokenized'] = df3['Sentence_tokenized'].apply(lambda t: ast.literal_eval(t))\n",
    "df3['Word_count'] = df3.apply(word_count, axis=1)"
   ]
  },
  {
   "cell_type": "code",
   "execution_count": 32,
   "metadata": {},
   "outputs": [],
   "source": [
    "num_words_3 = df3.groupby('Character').Word_count.sum()  # summing all words pronounced by each character\n",
    "num_words_3 = pd.DataFrame(num_words_3).rename_axis('Character').reset_index()"
   ]
  },
  {
   "cell_type": "code",
   "execution_count": 33,
   "metadata": {},
   "outputs": [],
   "source": [
    "df_temp_3 = pd.DataFrame(0, columns=['Word count'], index=data_char_3.Character).rename_axis('Character').reset_index()"
   ]
  },
  {
   "cell_type": "code",
   "execution_count": 34,
   "metadata": {},
   "outputs": [
    {
     "output_type": "stream",
     "name": "stderr",
     "text": [
      "<ipython-input-34-3245183be488>:4: SettingWithCopyWarning: \nA value is trying to be set on a copy of a slice from a DataFrame\n\nSee the caveats in the documentation: https://pandas.pydata.org/pandas-docs/stable/user_guide/indexing.html#returning-a-view-versus-a-copy\n  df_temp_3['Word count'][j] = num_words_3['Word_count'][i]\n"
     ]
    }
   ],
   "source": [
    "for i in range(len(num_words_3['Character'])):\n",
    "    for j in range(len(df_temp_3['Character'])):\n",
    "        if num_words_3['Character'][i] in df_temp_3['Character'][j]:\n",
    "            df_temp_3['Word count'][j] = num_words_3['Word_count'][i]"
   ]
  },
  {
   "cell_type": "code",
   "execution_count": 35,
   "metadata": {},
   "outputs": [],
   "source": [
    "total_word_3 = num_words_3['Word_count'].sum()\n",
    "df_temp_3['Word freq(%)'] = df_temp_3['Word count'].apply(lambda t : (t/total_word_3)*100)\n",
    "\n",
    "df_count_3 = df_temp_3[['Character', 'Word freq(%)']]"
   ]
  },
  {
   "source": [
    "# 4.Blood status"
   ],
   "cell_type": "markdown",
   "metadata": {}
  },
  {
   "source": [
    "## HP1 and HP2"
   ],
   "cell_type": "markdown",
   "metadata": {}
  },
  {
   "cell_type": "code",
   "execution_count": 36,
   "metadata": {},
   "outputs": [],
   "source": [
    "blood_status_col = pd.get_dummies(data_char['Blood status'])\n",
    "blood_status_mat = pd.concat([data_char['Character'], blood_status_col], axis=1)"
   ]
  },
  {
   "cell_type": "code",
   "execution_count": 37,
   "metadata": {},
   "outputs": [
    {
     "output_type": "execute_result",
     "data": {
      "text/plain": [
       "Index(['Character', 'Half-blood', 'Muggle', 'Muggle-born',\n",
       "       'Muggle-born or Half-blood', 'Part-Goblin', 'Part-Human or Half-giant',\n",
       "       'Pure-blood', 'Pure-blood or Half-blood', 'Quarter-Veela', 'Squib',\n",
       "       'Unknown'],\n",
       "      dtype='object')"
      ]
     },
     "metadata": {},
     "execution_count": 37
    }
   ],
   "source": [
    "blood_status_mat.columns"
   ]
  },
  {
   "source": [
    "## HP3"
   ],
   "cell_type": "markdown",
   "metadata": {}
  },
  {
   "cell_type": "code",
   "execution_count": 61,
   "metadata": {},
   "outputs": [],
   "source": [
    "blood_status_col_3 = blood_status_mat.columns\n",
    "blood_status_mat_3 = pd.DataFrame(0, index=np.arange(len(data_char_3['Character'])), columns=blood_status_col_3)\n",
    "blood_status_mat_3.Character = data_char_3['Character']"
   ]
  },
  {
   "cell_type": "code",
   "execution_count": 62,
   "metadata": {},
   "outputs": [
    {
     "output_type": "stream",
     "name": "stderr",
     "text": [
      "<ipython-input-62-a37d86c2d28a>:4: SettingWithCopyWarning: \nA value is trying to be set on a copy of a slice from a DataFrame\n\nSee the caveats in the documentation: https://pandas.pydata.org/pandas-docs/stable/user_guide/indexing.html#returning-a-view-versus-a-copy\n  if j == blood: blood_status_mat_3[j][i] = 1\n"
     ]
    }
   ],
   "source": [
    "for i in range(len(data_char_3)):\n",
    "    blood = data_char_3['Blood status'][i]\n",
    "    for j in blood_status_mat_3.columns:\n",
    "        if j == blood: blood_status_mat_3[j][i] = 1"
   ]
  },
  {
   "source": [
    "# Matrices setup"
   ],
   "cell_type": "markdown",
   "metadata": {}
  },
  {
   "source": [
    "## HP1 et HP2"
   ],
   "cell_type": "markdown",
   "metadata": {}
  },
  {
   "cell_type": "code",
   "execution_count": 67,
   "metadata": {},
   "outputs": [],
   "source": [
    "my_matrix = data_char[['Character', 'House']]"
   ]
  },
  {
   "cell_type": "code",
   "execution_count": 68,
   "metadata": {},
   "outputs": [],
   "source": [
    "my_matrix = my_matrix.merge(df_gender, on='Character')\n",
    "my_matrix = my_matrix.merge(blood_status_mat, on='Character')\n",
    "my_matrix = my_matrix.merge(df_film_common, on='Character')\n",
    "my_matrix = my_matrix.merge(df_count, on='Character')"
   ]
  },
  {
   "cell_type": "code",
   "execution_count": 69,
   "metadata": {},
   "outputs": [
    {
     "output_type": "execute_result",
     "data": {
      "text/plain": [
       "    Character       House Gender  Half-blood  Muggle  Muggle-born  \\\n",
       "0       Harry  Gryffindor      0           1       0            0   \n",
       "1         Ron  Gryffindor      0           0       0            0   \n",
       "2    Hermione  Gryffindor      1           0       0            1   \n",
       "3  Dumbledore  Gryffindor      0           1       0            0   \n",
       "4      Hagrid  Gryffindor      0           0       0            0   \n",
       "\n",
       "   Muggle-born or Half-blood  Part-Goblin  Part-Human or Half-giant  \\\n",
       "0                          0            0                         0   \n",
       "1                          0            0                         0   \n",
       "2                          0            0                         0   \n",
       "3                          0            0                         0   \n",
       "4                          0            0                         1   \n",
       "\n",
       "   Pure-blood  Pure-blood or Half-blood  Quarter-Veela  Squib  Unknown  \\\n",
       "0           0                         0              0      0        0   \n",
       "1           1                         0              0      0        0   \n",
       "2           0                         0              0      0        0   \n",
       "3           0                         0              0      0        0   \n",
       "4           0                         0              0      0        0   \n",
       "\n",
       "   professor  sir  hogwarts  slytherin  school  year  gryffindor  kill  \\\n",
       "0         10   14         6          7       4     6           0     6   \n",
       "1          0    0         0          0       3     0           0     6   \n",
       "2          5    0         4          6       0     3           2     0   \n",
       "3          7    0         3          3       4     3           7     0   \n",
       "4         13    5         9          0       3     4           0     0   \n",
       "\n",
       "   chamber  wizard  Word freq(%)  \n",
       "0       11       4     18.689284  \n",
       "1        2       5      9.352192  \n",
       "2        4       3      8.229728  \n",
       "3        3       0      7.384104  \n",
       "4        0       7      9.910908  "
      ],
      "text/html": "<div>\n<style scoped>\n    .dataframe tbody tr th:only-of-type {\n        vertical-align: middle;\n    }\n\n    .dataframe tbody tr th {\n        vertical-align: top;\n    }\n\n    .dataframe thead th {\n        text-align: right;\n    }\n</style>\n<table border=\"1\" class=\"dataframe\">\n  <thead>\n    <tr style=\"text-align: right;\">\n      <th></th>\n      <th>Character</th>\n      <th>House</th>\n      <th>Gender</th>\n      <th>Half-blood</th>\n      <th>Muggle</th>\n      <th>Muggle-born</th>\n      <th>Muggle-born or Half-blood</th>\n      <th>Part-Goblin</th>\n      <th>Part-Human or Half-giant</th>\n      <th>Pure-blood</th>\n      <th>Pure-blood or Half-blood</th>\n      <th>Quarter-Veela</th>\n      <th>Squib</th>\n      <th>Unknown</th>\n      <th>professor</th>\n      <th>sir</th>\n      <th>hogwarts</th>\n      <th>slytherin</th>\n      <th>school</th>\n      <th>year</th>\n      <th>gryffindor</th>\n      <th>kill</th>\n      <th>chamber</th>\n      <th>wizard</th>\n      <th>Word freq(%)</th>\n    </tr>\n  </thead>\n  <tbody>\n    <tr>\n      <th>0</th>\n      <td>Harry</td>\n      <td>Gryffindor</td>\n      <td>0</td>\n      <td>1</td>\n      <td>0</td>\n      <td>0</td>\n      <td>0</td>\n      <td>0</td>\n      <td>0</td>\n      <td>0</td>\n      <td>0</td>\n      <td>0</td>\n      <td>0</td>\n      <td>0</td>\n      <td>10</td>\n      <td>14</td>\n      <td>6</td>\n      <td>7</td>\n      <td>4</td>\n      <td>6</td>\n      <td>0</td>\n      <td>6</td>\n      <td>11</td>\n      <td>4</td>\n      <td>18.689284</td>\n    </tr>\n    <tr>\n      <th>1</th>\n      <td>Ron</td>\n      <td>Gryffindor</td>\n      <td>0</td>\n      <td>0</td>\n      <td>0</td>\n      <td>0</td>\n      <td>0</td>\n      <td>0</td>\n      <td>0</td>\n      <td>1</td>\n      <td>0</td>\n      <td>0</td>\n      <td>0</td>\n      <td>0</td>\n      <td>0</td>\n      <td>0</td>\n      <td>0</td>\n      <td>0</td>\n      <td>3</td>\n      <td>0</td>\n      <td>0</td>\n      <td>6</td>\n      <td>2</td>\n      <td>5</td>\n      <td>9.352192</td>\n    </tr>\n    <tr>\n      <th>2</th>\n      <td>Hermione</td>\n      <td>Gryffindor</td>\n      <td>1</td>\n      <td>0</td>\n      <td>0</td>\n      <td>1</td>\n      <td>0</td>\n      <td>0</td>\n      <td>0</td>\n      <td>0</td>\n      <td>0</td>\n      <td>0</td>\n      <td>0</td>\n      <td>0</td>\n      <td>5</td>\n      <td>0</td>\n      <td>4</td>\n      <td>6</td>\n      <td>0</td>\n      <td>3</td>\n      <td>2</td>\n      <td>0</td>\n      <td>4</td>\n      <td>3</td>\n      <td>8.229728</td>\n    </tr>\n    <tr>\n      <th>3</th>\n      <td>Dumbledore</td>\n      <td>Gryffindor</td>\n      <td>0</td>\n      <td>1</td>\n      <td>0</td>\n      <td>0</td>\n      <td>0</td>\n      <td>0</td>\n      <td>0</td>\n      <td>0</td>\n      <td>0</td>\n      <td>0</td>\n      <td>0</td>\n      <td>0</td>\n      <td>7</td>\n      <td>0</td>\n      <td>3</td>\n      <td>3</td>\n      <td>4</td>\n      <td>3</td>\n      <td>7</td>\n      <td>0</td>\n      <td>3</td>\n      <td>0</td>\n      <td>7.384104</td>\n    </tr>\n    <tr>\n      <th>4</th>\n      <td>Hagrid</td>\n      <td>Gryffindor</td>\n      <td>0</td>\n      <td>0</td>\n      <td>0</td>\n      <td>0</td>\n      <td>0</td>\n      <td>0</td>\n      <td>1</td>\n      <td>0</td>\n      <td>0</td>\n      <td>0</td>\n      <td>0</td>\n      <td>0</td>\n      <td>13</td>\n      <td>5</td>\n      <td>9</td>\n      <td>0</td>\n      <td>3</td>\n      <td>4</td>\n      <td>0</td>\n      <td>0</td>\n      <td>0</td>\n      <td>7</td>\n      <td>9.910908</td>\n    </tr>\n  </tbody>\n</table>\n</div>"
     },
     "metadata": {},
     "execution_count": 69
    }
   ],
   "source": [
    "my_matrix.head()"
   ]
  },
  {
   "cell_type": "code",
   "execution_count": 70,
   "metadata": {},
   "outputs": [],
   "source": [
    "# my_matrix.to_csv('../Data/Script_matrix.csv', sep=';', index=False)"
   ]
  },
  {
   "source": [
    "## HP3"
   ],
   "cell_type": "markdown",
   "metadata": {}
  },
  {
   "cell_type": "code",
   "execution_count": 71,
   "metadata": {},
   "outputs": [],
   "source": [
    "my_matrix_3 = data_char_3[['Character', 'House']]"
   ]
  },
  {
   "cell_type": "code",
   "execution_count": 72,
   "metadata": {},
   "outputs": [],
   "source": [
    "my_matrix_3 = my_matrix_3.merge(df_gender_3, on='Character')\n",
    "my_matrix_3 = my_matrix_3.merge(blood_status_mat_3, on='Character')\n",
    "my_matrix_3 = my_matrix_3.merge(df_film_common_3, on='Character')\n",
    "my_matrix_3 = my_matrix_3.merge(df_count_3, on='Character')"
   ]
  },
  {
   "cell_type": "code",
   "execution_count": 73,
   "metadata": {},
   "outputs": [
    {
     "output_type": "execute_result",
     "data": {
      "text/plain": [
       "       Character       House Gender  Half-blood  Muggle  Muggle-born  \\\n",
       "0         Sirius  Gryffindor      0           0       0            0   \n",
       "1          Lupin  Gryffindor      0           1       0            0   \n",
       "2      Pettigrew  Gryffindor      0           0       0            0   \n",
       "3  Parvati Patil  Gryffindor      1           0       0            0   \n",
       "4      Trelawney   Ravenclaw      1           1       0            0   \n",
       "\n",
       "   Muggle-born or Half-blood  Part-Goblin  Part-Human or Half-giant  \\\n",
       "0                          0            0                         0   \n",
       "1                          0            0                         0   \n",
       "2                          0            0                         0   \n",
       "3                          0            0                         0   \n",
       "4                          0            0                         0   \n",
       "\n",
       "   Pure-blood  Pure-blood or Half-blood  Quarter-Veela  Squib  Unknown  \\\n",
       "0           1                         0              0      0        0   \n",
       "1           0                         0              0      0        0   \n",
       "2           0                         0              0      0        0   \n",
       "3           0                         1              0      0        0   \n",
       "4           0                         0              0      0        0   \n",
       "\n",
       "   professor  sir  hogwarts  slytherin  school  year  gryffindor  kill  \\\n",
       "0          0    0         0          0       0     2           0     4   \n",
       "1          4    0         0          0       0     0           0     0   \n",
       "2          0    0         0          0       0     0           0     0   \n",
       "3          0    0         0          0       0     0           0     0   \n",
       "4          1    0         0          0       0     1           0     0   \n",
       "\n",
       "   chamber  wizard  Word freq(%)  \n",
       "0        0       0      5.262591  \n",
       "1        0       0     15.400344  \n",
       "2        0       0      1.194576  \n",
       "3        0       0      0.010762  \n",
       "4        0       0      3.153250  "
      ],
      "text/html": "<div>\n<style scoped>\n    .dataframe tbody tr th:only-of-type {\n        vertical-align: middle;\n    }\n\n    .dataframe tbody tr th {\n        vertical-align: top;\n    }\n\n    .dataframe thead th {\n        text-align: right;\n    }\n</style>\n<table border=\"1\" class=\"dataframe\">\n  <thead>\n    <tr style=\"text-align: right;\">\n      <th></th>\n      <th>Character</th>\n      <th>House</th>\n      <th>Gender</th>\n      <th>Half-blood</th>\n      <th>Muggle</th>\n      <th>Muggle-born</th>\n      <th>Muggle-born or Half-blood</th>\n      <th>Part-Goblin</th>\n      <th>Part-Human or Half-giant</th>\n      <th>Pure-blood</th>\n      <th>Pure-blood or Half-blood</th>\n      <th>Quarter-Veela</th>\n      <th>Squib</th>\n      <th>Unknown</th>\n      <th>professor</th>\n      <th>sir</th>\n      <th>hogwarts</th>\n      <th>slytherin</th>\n      <th>school</th>\n      <th>year</th>\n      <th>gryffindor</th>\n      <th>kill</th>\n      <th>chamber</th>\n      <th>wizard</th>\n      <th>Word freq(%)</th>\n    </tr>\n  </thead>\n  <tbody>\n    <tr>\n      <th>0</th>\n      <td>Sirius</td>\n      <td>Gryffindor</td>\n      <td>0</td>\n      <td>0</td>\n      <td>0</td>\n      <td>0</td>\n      <td>0</td>\n      <td>0</td>\n      <td>0</td>\n      <td>1</td>\n      <td>0</td>\n      <td>0</td>\n      <td>0</td>\n      <td>0</td>\n      <td>0</td>\n      <td>0</td>\n      <td>0</td>\n      <td>0</td>\n      <td>0</td>\n      <td>2</td>\n      <td>0</td>\n      <td>4</td>\n      <td>0</td>\n      <td>0</td>\n      <td>5.262591</td>\n    </tr>\n    <tr>\n      <th>1</th>\n      <td>Lupin</td>\n      <td>Gryffindor</td>\n      <td>0</td>\n      <td>1</td>\n      <td>0</td>\n      <td>0</td>\n      <td>0</td>\n      <td>0</td>\n      <td>0</td>\n      <td>0</td>\n      <td>0</td>\n      <td>0</td>\n      <td>0</td>\n      <td>0</td>\n      <td>4</td>\n      <td>0</td>\n      <td>0</td>\n      <td>0</td>\n      <td>0</td>\n      <td>0</td>\n      <td>0</td>\n      <td>0</td>\n      <td>0</td>\n      <td>0</td>\n      <td>15.400344</td>\n    </tr>\n    <tr>\n      <th>2</th>\n      <td>Pettigrew</td>\n      <td>Gryffindor</td>\n      <td>0</td>\n      <td>0</td>\n      <td>0</td>\n      <td>0</td>\n      <td>0</td>\n      <td>0</td>\n      <td>0</td>\n      <td>0</td>\n      <td>0</td>\n      <td>0</td>\n      <td>0</td>\n      <td>0</td>\n      <td>0</td>\n      <td>0</td>\n      <td>0</td>\n      <td>0</td>\n      <td>0</td>\n      <td>0</td>\n      <td>0</td>\n      <td>0</td>\n      <td>0</td>\n      <td>0</td>\n      <td>1.194576</td>\n    </tr>\n    <tr>\n      <th>3</th>\n      <td>Parvati Patil</td>\n      <td>Gryffindor</td>\n      <td>1</td>\n      <td>0</td>\n      <td>0</td>\n      <td>0</td>\n      <td>0</td>\n      <td>0</td>\n      <td>0</td>\n      <td>0</td>\n      <td>1</td>\n      <td>0</td>\n      <td>0</td>\n      <td>0</td>\n      <td>0</td>\n      <td>0</td>\n      <td>0</td>\n      <td>0</td>\n      <td>0</td>\n      <td>0</td>\n      <td>0</td>\n      <td>0</td>\n      <td>0</td>\n      <td>0</td>\n      <td>0.010762</td>\n    </tr>\n    <tr>\n      <th>4</th>\n      <td>Trelawney</td>\n      <td>Ravenclaw</td>\n      <td>1</td>\n      <td>1</td>\n      <td>0</td>\n      <td>0</td>\n      <td>0</td>\n      <td>0</td>\n      <td>0</td>\n      <td>0</td>\n      <td>0</td>\n      <td>0</td>\n      <td>0</td>\n      <td>0</td>\n      <td>1</td>\n      <td>0</td>\n      <td>0</td>\n      <td>0</td>\n      <td>0</td>\n      <td>1</td>\n      <td>0</td>\n      <td>0</td>\n      <td>0</td>\n      <td>0</td>\n      <td>3.153250</td>\n    </tr>\n  </tbody>\n</table>\n</div>"
     },
     "metadata": {},
     "execution_count": 73
    }
   ],
   "source": [
    "my_matrix_3.head()"
   ]
  },
  {
   "cell_type": "code",
   "execution_count": 74,
   "metadata": {},
   "outputs": [],
   "source": [
    "# my_matrix_3.to_csv('../Data/Script_matrix_3.csv', sep=';', index=False)"
   ]
  }
 ]
}