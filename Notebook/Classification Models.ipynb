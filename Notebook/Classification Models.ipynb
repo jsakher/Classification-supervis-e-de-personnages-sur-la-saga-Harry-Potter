{
  "nbformat": 4,
  "nbformat_minor": 0,
  "metadata": {
    "colab": {
      "name": "modelRF with script",
      "provenance": []
    },
    "kernelspec": {
      "name": "python3",
      "display_name": "Python 3"
    },
    "language_info": {
      "name": "python"
    }
  },
  "cells": [
    {
      "cell_type": "markdown",
      "metadata": {
        "id": "JM8tCgC63HHe"
      },
      "source": [
        "# MODEL RANDOM FOREST WITH SCRIPT MATRIX \n"
      ]
    },
    {
      "cell_type": "code",
      "metadata": {
        "id": "D_858CEtdQlN"
      },
      "source": [
        "import pandas as pd\n",
        "from sklearn.model_selection import GridSearchCV\n",
        "from sklearn.model_selection import cross_val_score\n",
        "def set_pandas_display_options() -> None:\n",
        "    \"\"\"Set pandas display options.\"\"\"\n",
        "    display = pd.options.display\n",
        "\n",
        "    display.max_columns = 1000\n",
        "    display.max_rows = 1000\n",
        "    display.max_colwidth = 199\n",
        "    display.width = 1000\n",
        "\n",
        "set_pandas_display_options()\n"
      ],
      "execution_count": 1,
      "outputs": []
    },
    {
      "cell_type": "code",
      "metadata": {
        "id": "BRmN00jrgZJc"
      },
      "source": [
        "final=pd.read_csv(\"Final_matrix.csv\", sep=\";\")\n"
      ],
      "execution_count": 2,
      "outputs": []
    },
    {
      "cell_type": "code",
      "metadata": {
        "id": "o9T3rscyqINF",
        "colab": {
          "base_uri": "https://localhost:8080/"
        },
        "outputId": "be28abb8-1565-4a43-8905-5687ee373b4e"
      },
      "source": [
        "y = final['House'].to_numpy()\n",
        "X=final.iloc[::,-11:]\n",
        "print(X.columns)\n"
      ],
      "execution_count": 3,
      "outputs": [
        {
          "output_type": "stream",
          "text": [
            "Index(['professor', 'sir', 'hogwarts', 'slytherin', 'school', 'year', 'gryffindor', 'kill', 'chamber', 'wizard', 'Word freq(%)'], dtype='object')\n"
          ],
          "name": "stdout"
        }
      ]
    },
    {
      "cell_type": "code",
      "metadata": {
        "id": "7hhZQjxVqlZ1"
      },
      "source": [
        "from sklearn.model_selection import train_test_split\n",
        "X_train, X_test, y_train, y_test = train_test_split(X, y, test_size=0.2, random_state=42)"
      ],
      "execution_count": 4,
      "outputs": []
    },
    {
      "cell_type": "code",
      "metadata": {
        "id": "GHIR5soXrMoM"
      },
      "source": [
        "from sklearn.ensemble import RandomForestClassifier\n",
        "classifier = RandomForestClassifier()\n",
        "\n"
      ],
      "execution_count": 5,
      "outputs": []
    },
    {
      "cell_type": "code",
      "metadata": {
        "colab": {
          "base_uri": "https://localhost:8080/"
        },
        "id": "ZDe0bwbL0ocw",
        "outputId": "b4e17ad1-74fc-4a3d-e19e-fc8c5ef5345e"
      },
      "source": [
        "param_grid = { \n",
        "    'n_estimators': [10,50,100,200,400,500],\n",
        "    'max_features': ['auto', 'sqrt', 'log2'],\n",
        "    'max_depth' : [2,3,4,5,6,7,8],\n",
        "    'criterion' :['gini', 'entropy'],\n",
        "    'class_weight': [None,\"balanced\",\"balanced_subsample\"]\n",
        "}\n",
        "CV_rfc = GridSearchCV(estimator=classifier, param_grid=param_grid, cv=10)\n",
        "CV_rfc.fit(X_train, y_train)\n",
        "CV_rfc.best_params_\n"
      ],
      "execution_count": 8,
      "outputs": [
        {
          "output_type": "stream",
          "text": [
            "/usr/local/lib/python3.7/dist-packages/sklearn/model_selection/_split.py:667: UserWarning: The least populated class in y has only 8 members, which is less than n_splits=10.\n",
            "  % (min_groups, self.n_splits)), UserWarning)\n"
          ],
          "name": "stderr"
        },
        {
          "output_type": "execute_result",
          "data": {
            "text/plain": [
              "{'class_weight': None,\n",
              " 'criterion': 'entropy',\n",
              " 'max_depth': 4,\n",
              " 'max_features': 'sqrt',\n",
              " 'n_estimators': 50}"
            ]
          },
          "metadata": {
            "tags": []
          },
          "execution_count": 8
        }
      ]
    },
    {
      "cell_type": "code",
      "metadata": {
        "id": "mq0tkl4jrTMK"
      },
      "source": [
        "clf = RandomForestClassifier(criterion='entropy',max_depth= 4,max_features= 'auto',n_estimators= 10)\n",
        "clf.fit(X_train, y_train)\n",
        "y_pred = clf.predict(X_test)"
      ],
      "execution_count": null,
      "outputs": []
    },
    {
      "cell_type": "code",
      "metadata": {
        "colab": {
          "base_uri": "https://localhost:8080/",
          "height": 132
        },
        "id": "1rpIjERxrXS5",
        "outputId": "51ffcdee-2cf3-40a3-f6fd-dd58153907db"
      },
      "source": [
        "pd.DataFrame([y_test, y_pred])"
      ],
      "execution_count": null,
      "outputs": [
        {
          "output_type": "execute_result",
          "data": {
            "text/html": [
              "<div>\n",
              "<style scoped>\n",
              "    .dataframe tbody tr th:only-of-type {\n",
              "        vertical-align: middle;\n",
              "    }\n",
              "\n",
              "    .dataframe tbody tr th {\n",
              "        vertical-align: top;\n",
              "    }\n",
              "\n",
              "    .dataframe thead th {\n",
              "        text-align: right;\n",
              "    }\n",
              "</style>\n",
              "<table border=\"1\" class=\"dataframe\">\n",
              "  <thead>\n",
              "    <tr style=\"text-align: right;\">\n",
              "      <th></th>\n",
              "      <th>0</th>\n",
              "      <th>1</th>\n",
              "      <th>2</th>\n",
              "      <th>3</th>\n",
              "      <th>4</th>\n",
              "      <th>5</th>\n",
              "      <th>6</th>\n",
              "      <th>7</th>\n",
              "      <th>8</th>\n",
              "      <th>9</th>\n",
              "      <th>10</th>\n",
              "      <th>11</th>\n",
              "      <th>12</th>\n",
              "      <th>13</th>\n",
              "      <th>14</th>\n",
              "      <th>15</th>\n",
              "      <th>16</th>\n",
              "      <th>17</th>\n",
              "      <th>18</th>\n",
              "      <th>19</th>\n",
              "      <th>20</th>\n",
              "      <th>21</th>\n",
              "      <th>22</th>\n",
              "      <th>23</th>\n",
              "      <th>24</th>\n",
              "      <th>25</th>\n",
              "    </tr>\n",
              "  </thead>\n",
              "  <tbody>\n",
              "    <tr>\n",
              "      <th>0</th>\n",
              "      <td>Hufflepuff</td>\n",
              "      <td>Gryffindor</td>\n",
              "      <td>Other</td>\n",
              "      <td>Slytherin</td>\n",
              "      <td>Other</td>\n",
              "      <td>Hufflepuff</td>\n",
              "      <td>Ravenclaw</td>\n",
              "      <td>Slytherin</td>\n",
              "      <td>Other</td>\n",
              "      <td>Slytherin</td>\n",
              "      <td>Gryffindor</td>\n",
              "      <td>Other</td>\n",
              "      <td>Ravenclaw</td>\n",
              "      <td>Other</td>\n",
              "      <td>Hufflepuff</td>\n",
              "      <td>Gryffindor</td>\n",
              "      <td>Other</td>\n",
              "      <td>Gryffindor</td>\n",
              "      <td>Ravenclaw</td>\n",
              "      <td>Gryffindor</td>\n",
              "      <td>Slytherin</td>\n",
              "      <td>Ravenclaw</td>\n",
              "      <td>Hufflepuff</td>\n",
              "      <td>Gryffindor</td>\n",
              "      <td>Ravenclaw</td>\n",
              "      <td>Slytherin</td>\n",
              "    </tr>\n",
              "    <tr>\n",
              "      <th>1</th>\n",
              "      <td>Other</td>\n",
              "      <td>Other</td>\n",
              "      <td>Slytherin</td>\n",
              "      <td>Other</td>\n",
              "      <td>Other</td>\n",
              "      <td>Other</td>\n",
              "      <td>Ravenclaw</td>\n",
              "      <td>Other</td>\n",
              "      <td>Gryffindor</td>\n",
              "      <td>Other</td>\n",
              "      <td>Other</td>\n",
              "      <td>Other</td>\n",
              "      <td>Other</td>\n",
              "      <td>Other</td>\n",
              "      <td>Other</td>\n",
              "      <td>Other</td>\n",
              "      <td>Other</td>\n",
              "      <td>Gryffindor</td>\n",
              "      <td>Other</td>\n",
              "      <td>Other</td>\n",
              "      <td>Gryffindor</td>\n",
              "      <td>Slytherin</td>\n",
              "      <td>Other</td>\n",
              "      <td>Gryffindor</td>\n",
              "      <td>Other</td>\n",
              "      <td>Other</td>\n",
              "    </tr>\n",
              "  </tbody>\n",
              "</table>\n",
              "</div>"
            ],
            "text/plain": [
              "           0           1          2          3      4           5          6          7           8          9           10     11         12     13          14          15     16          17         18          19          20         21          22          23         24         25\n",
              "0  Hufflepuff  Gryffindor      Other  Slytherin  Other  Hufflepuff  Ravenclaw  Slytherin       Other  Slytherin  Gryffindor  Other  Ravenclaw  Other  Hufflepuff  Gryffindor  Other  Gryffindor  Ravenclaw  Gryffindor   Slytherin  Ravenclaw  Hufflepuff  Gryffindor  Ravenclaw  Slytherin\n",
              "1       Other       Other  Slytherin      Other  Other       Other  Ravenclaw      Other  Gryffindor      Other       Other  Other      Other  Other       Other       Other  Other  Gryffindor      Other       Other  Gryffindor  Slytherin       Other  Gryffindor      Other      Other"
            ]
          },
          "metadata": {
            "tags": []
          },
          "execution_count": 26
        }
      ]
    },
    {
      "cell_type": "code",
      "metadata": {
        "colab": {
          "base_uri": "https://localhost:8080/"
        },
        "id": "VomZedLQ5KB5",
        "outputId": "c7cc96e3-3ff5-4b66-d797-7d52795c78a9"
      },
      "source": [
        "from sklearn.metrics import classification_report, confusion_matrix, accuracy_score\n",
        "print(confusion_matrix(y_test,y_pred))\n",
        "print(classification_report(y_test,y_pred))\n",
        "print(accuracy_score(y_test, y_pred))"
      ],
      "execution_count": null,
      "outputs": [
        {
          "output_type": "stream",
          "text": [
            "[[2 0 4 0 0]\n",
            " [0 0 4 0 0]\n",
            " [1 0 4 0 1]\n",
            " [0 0 3 1 1]\n",
            " [1 0 4 0 0]]\n",
            "              precision    recall  f1-score   support\n",
            "\n",
            "  Gryffindor       0.50      0.33      0.40         6\n",
            "  Hufflepuff       0.00      0.00      0.00         4\n",
            "       Other       0.21      0.67      0.32         6\n",
            "   Ravenclaw       1.00      0.20      0.33         5\n",
            "   Slytherin       0.00      0.00      0.00         5\n",
            "\n",
            "    accuracy                           0.27        26\n",
            "   macro avg       0.34      0.24      0.21        26\n",
            "weighted avg       0.36      0.27      0.23        26\n",
            "\n",
            "0.2692307692307692\n"
          ],
          "name": "stdout"
        },
        {
          "output_type": "stream",
          "text": [
            "/usr/local/lib/python3.7/dist-packages/sklearn/metrics/_classification.py:1272: UndefinedMetricWarning: Precision and F-score are ill-defined and being set to 0.0 in labels with no predicted samples. Use `zero_division` parameter to control this behavior.\n",
            "  _warn_prf(average, modifier, msg_start, len(result))\n"
          ],
          "name": "stderr"
        }
      ]
    },
    {
      "cell_type": "code",
      "metadata": {
        "colab": {
          "base_uri": "https://localhost:8080/",
          "height": 283
        },
        "id": "bJGR29Gr5Omb",
        "outputId": "9aaba6cd-7816-457e-d4d2-f2dd31f11611"
      },
      "source": [
        "import seaborn as sns\n",
        "import matplotlib.pyplot as plt\n",
        "\n",
        "sns.heatmap(confusion_matrix(y_test, y_pred), annot=True)\n",
        "plt.ylabel('True classes')\n",
        "plt.xlabel('Predicted classes')\n",
        "plt.savefig(\"confusion.png\")\n",
        "plt.show()\n",
        "\n"
      ],
      "execution_count": null,
      "outputs": [
        {
          "output_type": "display_data",
          "data": {
            "image/png": "[encoded data removed]",
            "text/plain": [
              "<Figure size 432x288 with 2 Axes>"
            ]
          },
          "metadata": {
            "tags": [],
            "needs_background": "light"
          }
        }
      ]
    },
    {
      "cell_type": "code",
      "metadata": {
        "colab": {
          "base_uri": "https://localhost:8080/",
          "height": 410
        },
        "id": "mEQr0BMiqvZf",
        "outputId": "236355ef-195c-4bf9-fdc0-253220f88d4d"
      },
      "source": [
        "from sklearn.metrics import plot_confusion_matrix\n",
        "print(set(final['House'].to_list()))\n",
        "# display_labels=set(final['House'].to_list())\n",
        "plt.rcParams[\"figure.figsize\"] = (20,6)\n",
        "disp = plot_confusion_matrix(clf, X_test, y_test,\n",
        "                                 cmap=plt.cm.Blues)\n",
        "plt.ylabel('True classes')\n",
        "plt.xlabel('Predicted classes')\n",
        "plt.savefig(\"confusion.png\")\n",
        "\n",
        "\n",
        "\n",
        "\n",
        "plt.show()"
      ],
      "execution_count": null,
      "outputs": [
        {
          "output_type": "stream",
          "text": [
            "{'Slytherin', 'Other', 'Gryffindor', 'Hufflepuff', 'Ravenclaw'}\n"
          ],
          "name": "stdout"
        },
        {
          "output_type": "display_data",
          "data": {
            "image/png": "[encoded data removed]",
            "text/plain": [
              "<Figure size 1440x432 with 2 Axes>"
            ]
          },
          "metadata": {
            "tags": [],
            "needs_background": "light"
          }
        }
      ]
    },
    {
      "cell_type": "markdown",
      "metadata": {
        "id": "svNWVbGkC0RR"
      },
      "source": [
        "Random forest after  class weight searchgridcv"
      ]
    },
    {
      "cell_type": "code",
      "metadata": {
        "colab": {
          "base_uri": "https://localhost:8080/",
          "height": 848
        },
        "id": "4KuxLUuPNEcp",
        "outputId": "8755163a-2581-4166-f7f6-ab0245cfa669"
      },
      "source": [
        "import matplotlib.pyplot as plt\n",
        "clf1 = RandomForestClassifier(criterion='entropy',max_depth= 4,max_features= 'sqrt',n_estimators= 50)\n",
        "clf1.fit(X_train, y_train)\n",
        "y_pred = clf1.predict(X_test)\n",
        "print(pd.DataFrame([y_test, y_pred]))\n",
        "from sklearn.metrics import classification_report, confusion_matrix, accuracy_score\n",
        "print(confusion_matrix(y_test,y_pred))\n",
        "print(classification_report(y_test,y_pred))\n",
        "print(accuracy_score(y_test, y_pred))\n",
        "from sklearn.metrics import plot_confusion_matrix\n",
        "print(set(final['House'].to_list()))\n",
        "# display_labels=set(final['House'].to_list())\n",
        "plt.rcParams[\"figure.figsize\"] = (20,6)\n",
        "disp = plot_confusion_matrix(clf1, X_test, y_test,\n",
        "                                 cmap=plt.cm.Blues)\n",
        "plt.ylabel('True classes')\n",
        "plt.xlabel('Predicted classes')\n",
        "plt.savefig(\"confusion.png\")"
      ],
      "execution_count": 11,
      "outputs": [
        {
          "output_type": "stream",
          "text": [
            "           0           1          2          3      4           5           6          7           8          9           10     11         12     13          14          15     16          17         18          19          20         21          22          23         24         25\n",
            "0  Hufflepuff  Gryffindor      Other  Slytherin  Other  Hufflepuff   Ravenclaw  Slytherin       Other  Slytherin  Gryffindor  Other  Ravenclaw  Other  Hufflepuff  Gryffindor  Other  Gryffindor  Ravenclaw  Gryffindor   Slytherin  Ravenclaw  Hufflepuff  Gryffindor  Ravenclaw  Slytherin\n",
            "1       Other       Other  Slytherin      Other  Other       Other  Gryffindor      Other  Gryffindor      Other  Gryffindor  Other      Other  Other       Other       Other  Other  Gryffindor      Other       Other  Gryffindor  Slytherin       Other  Gryffindor      Other      Other\n",
            "[[3 0 3 0 0]\n",
            " [0 0 4 0 0]\n",
            " [1 0 4 0 1]\n",
            " [1 0 3 0 1]\n",
            " [1 0 4 0 0]]\n",
            "              precision    recall  f1-score   support\n",
            "\n",
            "  Gryffindor       0.50      0.50      0.50         6\n",
            "  Hufflepuff       0.00      0.00      0.00         4\n",
            "       Other       0.22      0.67      0.33         6\n",
            "   Ravenclaw       0.00      0.00      0.00         5\n",
            "   Slytherin       0.00      0.00      0.00         5\n",
            "\n",
            "    accuracy                           0.27        26\n",
            "   macro avg       0.14      0.23      0.17        26\n",
            "weighted avg       0.17      0.27      0.19        26\n",
            "\n",
            "0.2692307692307692\n",
            "{'Other', 'Ravenclaw', 'Hufflepuff', 'Gryffindor', 'Slytherin'}\n"
          ],
          "name": "stdout"
        },
        {
          "output_type": "stream",
          "text": [
            "/usr/local/lib/python3.7/dist-packages/sklearn/metrics/_classification.py:1272: UndefinedMetricWarning: Precision and F-score are ill-defined and being set to 0.0 in labels with no predicted samples. Use `zero_division` parameter to control this behavior.\n",
            "  _warn_prf(average, modifier, msg_start, len(result))\n"
          ],
          "name": "stderr"
        },
        {
          "output_type": "display_data",
          "data": {
            "image/png": "[encoded data removed]",
            "text/plain": [
              "<Figure size 1440x432 with 2 Axes>"
            ]
          },
          "metadata": {
            "tags": [],
            "needs_background": "light"
          }
        }
      ]
    },
    {
      "cell_type": "code",
      "metadata": {
        "colab": {
          "base_uri": "https://localhost:8080/"
        },
        "id": "ReM27P4RwyrM",
        "outputId": "187ac8e5-5f10-42f9-dcb0-9e48c77f8c24"
      },
      "source": [
        "testing=pd.read_csv(\"testing.csv\",sep=\";\")\n",
        "y_testing = testing['House'].to_numpy()\n",
        "print(len(y_testing))\n",
        "X_testing=testing.iloc[::,-11:]\n",
        "y_predecting = clf1.predict(X_testing)\n",
        "print(pd.DataFrame([y_testing, y_predecting]))"
      ],
      "execution_count": 36,
      "outputs": [
        {
          "output_type": "stream",
          "text": [
            "8\n",
            "            0           1           2           3          4          5          6      7\n",
            "0  Gryffindor  Gryffindor  Gryffindor  Gryffindor  Ravenclaw  Slytherin  Slytherin  Other\n",
            "1       Other       Other       Other       Other      Other      Other      Other  Other\n"
          ],
          "name": "stdout"
        }
      ]
    },
    {
      "cell_type": "markdown",
      "metadata": {
        "id": "SVDTJkGg3vpe"
      },
      "source": [
        "# RANDOM FOREST WITH SCRIPT & CHARACHTERS MATRIX ( best model after searchGrid 61\\%"
      ]
    },
    {
      "cell_type": "code",
      "metadata": {
        "id": "i4qjmjne4Hcu"
      },
      "source": [
        "import pandas as pd\n",
        "from sklearn.model_selection import GridSearchCV\n",
        "from sklearn.model_selection import cross_val_score\n",
        "def set_pandas_display_options() -> None:\n",
        "    \"\"\"Set pandas display options.\"\"\"\n",
        "    display = pd.options.display\n",
        "\n",
        "    display.max_columns = 1000\n",
        "    display.max_rows = 1000\n",
        "    display.max_colwidth = 199\n",
        "    display.width = 1000\n",
        "\n",
        "set_pandas_display_options()\n"
      ],
      "execution_count": 12,
      "outputs": []
    },
    {
      "cell_type": "code",
      "metadata": {
        "id": "6GCMn-dp4Hcx"
      },
      "source": [
        "final=pd.read_csv(\"Final_matrix.csv\", sep=\";\")\n"
      ],
      "execution_count": 13,
      "outputs": []
    },
    {
      "cell_type": "code",
      "metadata": {
        "colab": {
          "base_uri": "https://localhost:8080/"
        },
        "id": "kDk94Z3S4Hcz",
        "outputId": "db517d4e-e253-49e7-cc49-dad4d64503b1"
      },
      "source": [
        "y = final['House'].to_numpy()\n",
        "X=final.drop([\"House\",\"Character\"],axis=1)\n",
        "print(X.columns)\n"
      ],
      "execution_count": 14,
      "outputs": [
        {
          "output_type": "stream",
          "text": [
            "Index(['Gender', 'Half-blood', 'Muggle', 'Muggle-born', 'Muggle-born or Half-blood', 'Part-Goblin', 'Part-Human or Half-giant', 'Pure-blood', 'Pure-blood or Half-blood', 'Quarter-Veela',\n",
            "       ...\n",
            "       'sir', 'hogwarts', 'slytherin', 'school', 'year', 'gryffindor', 'kill', 'chamber', 'wizard', 'Word freq(%)'], dtype='object', length=150)\n"
          ],
          "name": "stdout"
        }
      ]
    },
    {
      "cell_type": "code",
      "metadata": {
        "id": "cnC9gaiZ4Hc2"
      },
      "source": [
        "from sklearn.model_selection import train_test_split\n",
        "X_train, X_test, y_train, y_test = train_test_split(X, y, test_size=0.2, random_state=42)"
      ],
      "execution_count": 15,
      "outputs": []
    },
    {
      "cell_type": "code",
      "metadata": {
        "id": "6ul7Kqsw4Hc3"
      },
      "source": [
        "from sklearn.ensemble import RandomForestClassifier\n",
        "classifier = RandomForestClassifier()\n",
        "\n"
      ],
      "execution_count": 16,
      "outputs": []
    },
    {
      "cell_type": "code",
      "metadata": {
        "colab": {
          "base_uri": "https://localhost:8080/"
        },
        "id": "ffjEJab-4Hc5",
        "outputId": "d8af48ad-f98c-47e3-9a5a-81e4e035c3f3"
      },
      "source": [
        "param_grid = { \n",
        "    'n_estimators': [10,50,100,200,400,500],\n",
        "    'max_features': ['auto', 'sqrt', 'log2'],\n",
        "    'max_depth' : [2,3,4,5,6,7,8],\n",
        "    'criterion' :['gini', 'entropy'],\n",
        "    'class_weight': [None,\"balanced\",\"balanced_subsample\"]\n",
        "\n",
        "}\n",
        "CV_rfc = GridSearchCV(estimator=classifier, param_grid=param_grid, cv=10)\n",
        "CV_rfc.fit(X_train, y_train)\n",
        "CV_rfc.best_params_\n"
      ],
      "execution_count": 17,
      "outputs": [
        {
          "output_type": "stream",
          "text": [
            "/usr/local/lib/python3.7/dist-packages/sklearn/model_selection/_split.py:667: UserWarning: The least populated class in y has only 8 members, which is less than n_splits=10.\n",
            "  % (min_groups, self.n_splits)), UserWarning)\n"
          ],
          "name": "stderr"
        },
        {
          "output_type": "execute_result",
          "data": {
            "text/plain": [
              "{'class_weight': 'balanced_subsample',\n",
              " 'criterion': 'gini',\n",
              " 'max_depth': 7,\n",
              " 'max_features': 'log2',\n",
              " 'n_estimators': 200}"
            ]
          },
          "metadata": {
            "tags": []
          },
          "execution_count": 17
        }
      ]
    },
    {
      "cell_type": "code",
      "metadata": {
        "id": "xDIlLtDS4Hc8"
      },
      "source": [
        "clf = RandomForestClassifier(criterion='gini',max_depth= 8,max_features= 'log2',n_estimators= 200)\n",
        "clf.fit(X_train, y_train)\n",
        "y_pred = clf.predict(X_test)"
      ],
      "execution_count": null,
      "outputs": []
    },
    {
      "cell_type": "code",
      "metadata": {
        "colab": {
          "base_uri": "https://localhost:8080/",
          "height": 132
        },
        "id": "XvWV5hCJ4Hc9",
        "outputId": "ae7f9a10-8675-4df6-d569-12b0918636b9"
      },
      "source": [
        "pd.DataFrame([y_test, y_pred])"
      ],
      "execution_count": null,
      "outputs": [
        {
          "output_type": "execute_result",
          "data": {
            "text/html": [
              "<div>\n",
              "<style scoped>\n",
              "    .dataframe tbody tr th:only-of-type {\n",
              "        vertical-align: middle;\n",
              "    }\n",
              "\n",
              "    .dataframe tbody tr th {\n",
              "        vertical-align: top;\n",
              "    }\n",
              "\n",
              "    .dataframe thead th {\n",
              "        text-align: right;\n",
              "    }\n",
              "</style>\n",
              "<table border=\"1\" class=\"dataframe\">\n",
              "  <thead>\n",
              "    <tr style=\"text-align: right;\">\n",
              "      <th></th>\n",
              "      <th>0</th>\n",
              "      <th>1</th>\n",
              "      <th>2</th>\n",
              "      <th>3</th>\n",
              "      <th>4</th>\n",
              "      <th>5</th>\n",
              "      <th>6</th>\n",
              "      <th>7</th>\n",
              "      <th>8</th>\n",
              "      <th>9</th>\n",
              "      <th>10</th>\n",
              "      <th>11</th>\n",
              "      <th>12</th>\n",
              "      <th>13</th>\n",
              "      <th>14</th>\n",
              "      <th>15</th>\n",
              "      <th>16</th>\n",
              "      <th>17</th>\n",
              "      <th>18</th>\n",
              "      <th>19</th>\n",
              "      <th>20</th>\n",
              "      <th>21</th>\n",
              "      <th>22</th>\n",
              "      <th>23</th>\n",
              "      <th>24</th>\n",
              "      <th>25</th>\n",
              "    </tr>\n",
              "  </thead>\n",
              "  <tbody>\n",
              "    <tr>\n",
              "      <th>0</th>\n",
              "      <td>Hufflepuff</td>\n",
              "      <td>Gryffindor</td>\n",
              "      <td>Other</td>\n",
              "      <td>Slytherin</td>\n",
              "      <td>Other</td>\n",
              "      <td>Hufflepuff</td>\n",
              "      <td>Ravenclaw</td>\n",
              "      <td>Slytherin</td>\n",
              "      <td>Other</td>\n",
              "      <td>Slytherin</td>\n",
              "      <td>Gryffindor</td>\n",
              "      <td>Other</td>\n",
              "      <td>Ravenclaw</td>\n",
              "      <td>Other</td>\n",
              "      <td>Hufflepuff</td>\n",
              "      <td>Gryffindor</td>\n",
              "      <td>Other</td>\n",
              "      <td>Gryffindor</td>\n",
              "      <td>Ravenclaw</td>\n",
              "      <td>Gryffindor</td>\n",
              "      <td>Slytherin</td>\n",
              "      <td>Ravenclaw</td>\n",
              "      <td>Hufflepuff</td>\n",
              "      <td>Gryffindor</td>\n",
              "      <td>Ravenclaw</td>\n",
              "      <td>Slytherin</td>\n",
              "    </tr>\n",
              "    <tr>\n",
              "      <th>1</th>\n",
              "      <td>Other</td>\n",
              "      <td>Gryffindor</td>\n",
              "      <td>Other</td>\n",
              "      <td>Slytherin</td>\n",
              "      <td>Other</td>\n",
              "      <td>Gryffindor</td>\n",
              "      <td>Other</td>\n",
              "      <td>Other</td>\n",
              "      <td>Other</td>\n",
              "      <td>Slytherin</td>\n",
              "      <td>Gryffindor</td>\n",
              "      <td>Other</td>\n",
              "      <td>Ravenclaw</td>\n",
              "      <td>Other</td>\n",
              "      <td>Ravenclaw</td>\n",
              "      <td>Gryffindor</td>\n",
              "      <td>Other</td>\n",
              "      <td>Gryffindor</td>\n",
              "      <td>Other</td>\n",
              "      <td>Other</td>\n",
              "      <td>Slytherin</td>\n",
              "      <td>Other</td>\n",
              "      <td>Ravenclaw</td>\n",
              "      <td>Gryffindor</td>\n",
              "      <td>Slytherin</td>\n",
              "      <td>Other</td>\n",
              "    </tr>\n",
              "  </tbody>\n",
              "</table>\n",
              "</div>"
            ],
            "text/plain": [
              "           0           1      2          3      4           5          6          7      8          9           10     11         12     13          14          15     16          17         18          19         20         21          22          23         24         25\n",
              "0  Hufflepuff  Gryffindor  Other  Slytherin  Other  Hufflepuff  Ravenclaw  Slytherin  Other  Slytherin  Gryffindor  Other  Ravenclaw  Other  Hufflepuff  Gryffindor  Other  Gryffindor  Ravenclaw  Gryffindor  Slytherin  Ravenclaw  Hufflepuff  Gryffindor  Ravenclaw  Slytherin\n",
              "1       Other  Gryffindor  Other  Slytherin  Other  Gryffindor      Other      Other  Other  Slytherin  Gryffindor  Other  Ravenclaw  Other   Ravenclaw  Gryffindor  Other  Gryffindor      Other       Other  Slytherin      Other   Ravenclaw  Gryffindor  Slytherin      Other"
            ]
          },
          "metadata": {
            "tags": []
          },
          "execution_count": 7
        }
      ]
    },
    {
      "cell_type": "code",
      "metadata": {
        "colab": {
          "base_uri": "https://localhost:8080/"
        },
        "id": "zSCa_Jx74HdC",
        "outputId": "90d528ba-ab3d-4a66-f223-10ead4850cc4"
      },
      "source": [
        "from sklearn.metrics import classification_report, confusion_matrix, accuracy_score\n",
        "print(confusion_matrix(y_test,y_pred))\n",
        "print(classification_report(y_test,y_pred))\n",
        "print(accuracy_score(y_test, y_pred))"
      ],
      "execution_count": null,
      "outputs": [
        {
          "output_type": "stream",
          "text": [
            "[[5 0 1 0 0]\n",
            " [1 0 1 2 0]\n",
            " [0 0 6 0 0]\n",
            " [0 0 3 1 1]\n",
            " [0 0 2 0 3]]\n",
            "              precision    recall  f1-score   support\n",
            "\n",
            "  Gryffindor       0.83      0.83      0.83         6\n",
            "  Hufflepuff       0.00      0.00      0.00         4\n",
            "       Other       0.46      1.00      0.63         6\n",
            "   Ravenclaw       0.33      0.20      0.25         5\n",
            "   Slytherin       0.75      0.60      0.67         5\n",
            "\n",
            "    accuracy                           0.58        26\n",
            "   macro avg       0.48      0.53      0.48        26\n",
            "weighted avg       0.51      0.58      0.51        26\n",
            "\n",
            "0.5769230769230769\n"
          ],
          "name": "stdout"
        },
        {
          "output_type": "stream",
          "text": [
            "/usr/local/lib/python3.7/dist-packages/sklearn/metrics/_classification.py:1272: UndefinedMetricWarning: Precision and F-score are ill-defined and being set to 0.0 in labels with no predicted samples. Use `zero_division` parameter to control this behavior.\n",
            "  _warn_prf(average, modifier, msg_start, len(result))\n"
          ],
          "name": "stderr"
        }
      ]
    },
    {
      "cell_type": "code",
      "metadata": {
        "colab": {
          "base_uri": "https://localhost:8080/",
          "height": 410
        },
        "id": "qQHaM31Zx4Wz",
        "outputId": "a66e58e8-c1f4-4234-f396-9fc08c7992e8"
      },
      "source": [
        "from sklearn.metrics import plot_confusion_matrix\n",
        "import matplotlib.pyplot as plt\n",
        "\n",
        "print(set(final['House'].to_list()))\n",
        "# display_labels=set(final['House'].to_list())\n",
        "plt.rcParams[\"figure.figsize\"] = (20,6)\n",
        "disp = plot_confusion_matrix(clf, X_test, y_test,\n",
        "                                 cmap=plt.cm.Blues)\n",
        "plt.ylabel('True classes')\n",
        "plt.xlabel('Predicted classes')\n",
        "plt.savefig(\"confusion.png\")\n",
        "\n",
        "\n",
        "\n",
        "\n",
        "plt.show()"
      ],
      "execution_count": null,
      "outputs": [
        {
          "output_type": "stream",
          "text": [
            "{'Other', 'Hufflepuff', 'Gryffindor', 'Slytherin', 'Ravenclaw'}\n"
          ],
          "name": "stdout"
        },
        {
          "output_type": "display_data",
          "data": {
            "image/png": "[encoded data removed]",
            "text/plain": [
              "<Figure size 1440x432 with 2 Axes>"
            ]
          },
          "metadata": {
            "tags": [],
            "needs_background": "light"
          }
        }
      ]
    },
    {
      "cell_type": "markdown",
      "metadata": {
        "id": "mG4_XEBXCFvg"
      },
      "source": [
        "Random forest after search grid"
      ]
    },
    {
      "cell_type": "code",
      "metadata": {
        "colab": {
          "base_uri": "https://localhost:8080/",
          "height": 848
        },
        "id": "ibY8PJ5I4HdQ",
        "outputId": "ca936ecb-f8a5-4118-fee8-1b3c006d2a4e"
      },
      "source": [
        "clf2 = RandomForestClassifier(class_weight='balanced_subsample',criterion='gini',max_depth= 7,max_features= 'log2',n_estimators= 200)\n",
        "clf2.fit(X_train, y_train)\n",
        "y_pred = clf2.predict(X_test)\n",
        "print(pd.DataFrame([y_test, y_pred]))\n",
        "from sklearn.metrics import classification_report, confusion_matrix, accuracy_score\n",
        "print(confusion_matrix(y_test,y_pred))\n",
        "print(classification_report(y_test,y_pred))\n",
        "print(accuracy_score(y_test, y_pred))\n",
        "from sklearn.metrics import plot_confusion_matrix\n",
        "import matplotlib.pyplot as plt\n",
        "\n",
        "print(set(final['House'].to_list()))\n",
        "# display_labels=set(final['House'].to_list())\n",
        "plt.rcParams[\"figure.figsize\"] = (20,6)\n",
        "disp = plot_confusion_matrix(clf2, X_test, y_test,\n",
        "                                 cmap=plt.cm.Blues)\n",
        "plt.ylabel('True classes')\n",
        "plt.xlabel('Predicted classes')\n",
        "plt.savefig(\"confusion.png\")\n",
        "\n"
      ],
      "execution_count": 19,
      "outputs": [
        {
          "output_type": "stream",
          "text": [
            "           0           1      2          3      4           5          6          7      8          9           10     11         12     13          14          15     16          17         18          19         20         21          22          23         24         25\n",
            "0  Hufflepuff  Gryffindor  Other  Slytherin  Other  Hufflepuff  Ravenclaw  Slytherin  Other  Slytherin  Gryffindor  Other  Ravenclaw  Other  Hufflepuff  Gryffindor  Other  Gryffindor  Ravenclaw  Gryffindor  Slytherin  Ravenclaw  Hufflepuff  Gryffindor  Ravenclaw  Slytherin\n",
            "1       Other  Gryffindor  Other  Slytherin  Other  Gryffindor  Ravenclaw      Other  Other  Slytherin  Gryffindor  Other  Ravenclaw  Other   Ravenclaw  Gryffindor  Other   Ravenclaw  Ravenclaw       Other  Slytherin  Slytherin   Ravenclaw  Gryffindor  Slytherin      Other\n",
            "[[4 0 1 1 0]\n",
            " [1 0 1 2 0]\n",
            " [0 0 6 0 0]\n",
            " [0 0 0 3 2]\n",
            " [0 0 2 0 3]]\n",
            "              precision    recall  f1-score   support\n",
            "\n",
            "  Gryffindor       0.80      0.67      0.73         6\n",
            "  Hufflepuff       0.00      0.00      0.00         4\n",
            "       Other       0.60      1.00      0.75         6\n",
            "   Ravenclaw       0.50      0.60      0.55         5\n",
            "   Slytherin       0.60      0.60      0.60         5\n",
            "\n",
            "    accuracy                           0.62        26\n",
            "   macro avg       0.50      0.57      0.52        26\n",
            "weighted avg       0.53      0.62      0.56        26\n",
            "\n",
            "0.6153846153846154\n",
            "{'Other', 'Ravenclaw', 'Hufflepuff', 'Gryffindor', 'Slytherin'}\n"
          ],
          "name": "stdout"
        },
        {
          "output_type": "stream",
          "text": [
            "/usr/local/lib/python3.7/dist-packages/sklearn/metrics/_classification.py:1272: UndefinedMetricWarning: Precision and F-score are ill-defined and being set to 0.0 in labels with no predicted samples. Use `zero_division` parameter to control this behavior.\n",
            "  _warn_prf(average, modifier, msg_start, len(result))\n"
          ],
          "name": "stderr"
        },
        {
          "output_type": "display_data",
          "data": {
            "image/png": "[encoded data removed]",
            "text/plain": [
              "<Figure size 1440x432 with 2 Axes>"
            ]
          },
          "metadata": {
            "tags": [],
            "needs_background": "light"
          }
        }
      ]
    },
    {
      "cell_type": "code",
      "metadata": {
        "colab": {
          "base_uri": "https://localhost:8080/"
        },
        "id": "DvWbIVsmvd2s",
        "outputId": "1aeee120-524f-428a-f81e-b6282086b0e8"
      },
      "source": [
        "testing=pd.read_csv(\"testing.csv\",sep=\";\")\n",
        "y_testing = testing['House'].to_numpy()\n",
        "print(len(y_testing))\n",
        "X_testing=testing.drop([\"House\",\"Character\"],axis=1)\n",
        "y_predecting = clf2.predict(X_testing)\n",
        "print(pd.DataFrame([y_testing, y_predecting]))\n"
      ],
      "execution_count": 38,
      "outputs": [
        {
          "output_type": "stream",
          "text": [
            "8\n",
            "            0           1           2           3          4          5          6      7\n",
            "0  Gryffindor  Gryffindor  Gryffindor  Gryffindor  Ravenclaw  Slytherin  Slytherin  Other\n",
            "1  Gryffindor       Other       Other       Other  Slytherin      Other  Ravenclaw  Other\n"
          ],
          "name": "stdout"
        }
      ]
    },
    {
      "cell_type": "code",
      "metadata": {
        "colab": {
          "base_uri": "https://localhost:8080/",
          "height": 410
        },
        "id": "_5ZjU4jPzhEA",
        "outputId": "437162f9-8722-4af3-9ed7-efdb774142e3"
      },
      "source": [
        "feat_importances = pd.Series(clf2.feature_importances_, index=X.columns)\n",
        "feat_importances.nlargest(15).plot(kind='barh')\n",
        "plt.title(\"Top 15 important features\")\n",
        "plt.show()"
      ],
      "execution_count": 39,
      "outputs": [
        {
          "output_type": "display_data",
          "data": {
            "image/png": "[encoded data removed]",
            "text/plain": [
              "<Figure size 1440x432 with 1 Axes>"
            ]
          },
          "metadata": {
            "tags": [],
            "needs_background": "light"
          }
        }
      ]
    },
    {
      "cell_type": "markdown",
      "metadata": {
        "id": "k0Y9poGuDgVx"
      },
      "source": [
        "# Adaboost with final Matrix"
      ]
    },
    {
      "cell_type": "code",
      "metadata": {
        "id": "dqLeC0IdDkII"
      },
      "source": [
        "import pandas as pd\n",
        "from sklearn.model_selection import GridSearchCV\n",
        "from sklearn.model_selection import cross_val_score\n",
        "def set_pandas_display_options() -> None:\n",
        "    \"\"\"Set pandas display options.\"\"\"\n",
        "    display = pd.options.display\n",
        "\n",
        "    display.max_columns = 1000\n",
        "    display.max_rows = 1000\n",
        "    display.max_colwidth = 199\n",
        "    display.width = 1000\n",
        "\n",
        "set_pandas_display_options()\n"
      ],
      "execution_count": null,
      "outputs": []
    },
    {
      "cell_type": "code",
      "metadata": {
        "id": "Z0LRsjcqDkIM"
      },
      "source": [
        "final=pd.read_csv(\"Final_matrix.csv\", sep=\";\")\n"
      ],
      "execution_count": null,
      "outputs": []
    },
    {
      "cell_type": "code",
      "metadata": {
        "colab": {
          "base_uri": "https://localhost:8080/"
        },
        "id": "QESFK6FoDkIO",
        "outputId": "b9655e9f-3074-4db7-da5a-5c30f3698bca"
      },
      "source": [
        "y = final['House'].to_numpy()\n",
        "X=final.drop([\"House\",\"Character\"],axis=1)\n",
        "print(X.columns)\n"
      ],
      "execution_count": null,
      "outputs": [
        {
          "output_type": "stream",
          "text": [
            "Index(['Gender', 'Half-blood', 'Muggle', 'Muggle-born', 'Muggle-born or Half-blood', 'Part-Goblin', 'Part-Human or Half-giant', 'Pure-blood', 'Pure-blood or Half-blood', 'Quarter-Veela',\n",
            "       ...\n",
            "       'sir', 'hogwarts', 'slytherin', 'school', 'year', 'gryffindor', 'kill', 'chamber', 'wizard', 'Word freq(%)'], dtype='object', length=150)\n"
          ],
          "name": "stdout"
        }
      ]
    },
    {
      "cell_type": "code",
      "metadata": {
        "id": "sSlhEuSpDkIW"
      },
      "source": [
        "from sklearn.model_selection import train_test_split\n",
        "X_train, X_test, y_train, y_test = train_test_split(X, y, test_size=0.2, random_state=42)"
      ],
      "execution_count": null,
      "outputs": []
    },
    {
      "cell_type": "code",
      "metadata": {
        "colab": {
          "base_uri": "https://localhost:8080/"
        },
        "id": "fYl_NaO2DkIY",
        "outputId": "ef1f34ac-9f43-4a33-fcab-8879f06d1540"
      },
      "source": [
        "from sklearn.ensemble import AdaBoostClassifier\n",
        "from sklearn.model_selection import cross_val_score\n",
        "from sklearn.model_selection import RepeatedStratifiedKFold\n",
        "from sklearn.tree import DecisionTreeClassifier\n",
        "from sklearn.ensemble import RandomForestClassifier\n",
        "# evaluate adaboost algorithm for classification\n",
        "from numpy import mean\n",
        "from numpy import std\n",
        "cv = RepeatedStratifiedKFold(n_splits=5, n_repeats=3, random_state=1)\n",
        "#model = AdaBoostClassifier(n_estimators=50,base_estimator=RandomForestClassifier(criterion='gini',max_depth= 8,max_features= 'log2',n_estimators= 200))\n",
        "model = AdaBoostClassifier(n_estimators=50,base_estimator=RandomForestClassifier(class_weight='balanced_subsample',criterion='gini',max_depth= 7,max_features= 'log2',n_estimators= 200))\n",
        "#model = AdaBoostClassifier(n_estimators=50,base_estimator=DecisionTreeClassifier(class_weight='balanced',max_depth= 9,max_features= 'log2'))\n",
        "n_scores = cross_val_score(model, X_train, y_train, scoring='accuracy', cv=cv, n_jobs=-1, error_score='raise')\n",
        "print('Accuracy: %.3f (%.3f)' % (mean(n_scores), std(n_scores)))"
      ],
      "execution_count": null,
      "outputs": [
        {
          "output_type": "stream",
          "text": [
            "Accuracy: 0.537 (0.104)\n"
          ],
          "name": "stdout"
        }
      ]
    },
    {
      "cell_type": "code",
      "metadata": {
        "colab": {
          "base_uri": "https://localhost:8080/",
          "height": 132
        },
        "id": "A_wXy4dhDkIa",
        "outputId": "c42558de-2eae-4c12-d218-6ecaa359eda8"
      },
      "source": [
        "model.fit(X_train, y_train)\n",
        "y_pred = model.predict(X_test)\n",
        "pd.DataFrame([y_test, y_pred])"
      ],
      "execution_count": null,
      "outputs": [
        {
          "output_type": "execute_result",
          "data": {
            "text/html": [
              "<div>\n",
              "<style scoped>\n",
              "    .dataframe tbody tr th:only-of-type {\n",
              "        vertical-align: middle;\n",
              "    }\n",
              "\n",
              "    .dataframe tbody tr th {\n",
              "        vertical-align: top;\n",
              "    }\n",
              "\n",
              "    .dataframe thead th {\n",
              "        text-align: right;\n",
              "    }\n",
              "</style>\n",
              "<table border=\"1\" class=\"dataframe\">\n",
              "  <thead>\n",
              "    <tr style=\"text-align: right;\">\n",
              "      <th></th>\n",
              "      <th>0</th>\n",
              "      <th>1</th>\n",
              "      <th>2</th>\n",
              "      <th>3</th>\n",
              "      <th>4</th>\n",
              "      <th>5</th>\n",
              "      <th>6</th>\n",
              "      <th>7</th>\n",
              "      <th>8</th>\n",
              "      <th>9</th>\n",
              "      <th>10</th>\n",
              "      <th>11</th>\n",
              "      <th>12</th>\n",
              "      <th>13</th>\n",
              "      <th>14</th>\n",
              "      <th>15</th>\n",
              "      <th>16</th>\n",
              "      <th>17</th>\n",
              "      <th>18</th>\n",
              "      <th>19</th>\n",
              "      <th>20</th>\n",
              "      <th>21</th>\n",
              "      <th>22</th>\n",
              "      <th>23</th>\n",
              "      <th>24</th>\n",
              "      <th>25</th>\n",
              "    </tr>\n",
              "  </thead>\n",
              "  <tbody>\n",
              "    <tr>\n",
              "      <th>0</th>\n",
              "      <td>Hufflepuff</td>\n",
              "      <td>Gryffindor</td>\n",
              "      <td>Other</td>\n",
              "      <td>Slytherin</td>\n",
              "      <td>Other</td>\n",
              "      <td>Hufflepuff</td>\n",
              "      <td>Ravenclaw</td>\n",
              "      <td>Slytherin</td>\n",
              "      <td>Other</td>\n",
              "      <td>Slytherin</td>\n",
              "      <td>Gryffindor</td>\n",
              "      <td>Other</td>\n",
              "      <td>Ravenclaw</td>\n",
              "      <td>Other</td>\n",
              "      <td>Hufflepuff</td>\n",
              "      <td>Gryffindor</td>\n",
              "      <td>Other</td>\n",
              "      <td>Gryffindor</td>\n",
              "      <td>Ravenclaw</td>\n",
              "      <td>Gryffindor</td>\n",
              "      <td>Slytherin</td>\n",
              "      <td>Ravenclaw</td>\n",
              "      <td>Hufflepuff</td>\n",
              "      <td>Gryffindor</td>\n",
              "      <td>Ravenclaw</td>\n",
              "      <td>Slytherin</td>\n",
              "    </tr>\n",
              "    <tr>\n",
              "      <th>1</th>\n",
              "      <td>Ravenclaw</td>\n",
              "      <td>Gryffindor</td>\n",
              "      <td>Other</td>\n",
              "      <td>Slytherin</td>\n",
              "      <td>Other</td>\n",
              "      <td>Gryffindor</td>\n",
              "      <td>Gryffindor</td>\n",
              "      <td>Ravenclaw</td>\n",
              "      <td>Other</td>\n",
              "      <td>Slytherin</td>\n",
              "      <td>Other</td>\n",
              "      <td>Other</td>\n",
              "      <td>Ravenclaw</td>\n",
              "      <td>Other</td>\n",
              "      <td>Slytherin</td>\n",
              "      <td>Gryffindor</td>\n",
              "      <td>Other</td>\n",
              "      <td>Ravenclaw</td>\n",
              "      <td>Other</td>\n",
              "      <td>Other</td>\n",
              "      <td>Slytherin</td>\n",
              "      <td>Slytherin</td>\n",
              "      <td>Slytherin</td>\n",
              "      <td>Gryffindor</td>\n",
              "      <td>Slytherin</td>\n",
              "      <td>Slytherin</td>\n",
              "    </tr>\n",
              "  </tbody>\n",
              "</table>\n",
              "</div>"
            ],
            "text/plain": [
              "           0           1      2          3      4           5           6          7      8          9           10     11         12     13          14          15     16          17         18          19         20         21          22          23         24         25\n",
              "0  Hufflepuff  Gryffindor  Other  Slytherin  Other  Hufflepuff   Ravenclaw  Slytherin  Other  Slytherin  Gryffindor  Other  Ravenclaw  Other  Hufflepuff  Gryffindor  Other  Gryffindor  Ravenclaw  Gryffindor  Slytherin  Ravenclaw  Hufflepuff  Gryffindor  Ravenclaw  Slytherin\n",
              "1   Ravenclaw  Gryffindor  Other  Slytherin  Other  Gryffindor  Gryffindor  Ravenclaw  Other  Slytherin       Other  Other  Ravenclaw  Other   Slytherin  Gryffindor  Other   Ravenclaw      Other       Other  Slytherin  Slytherin   Slytherin  Gryffindor  Slytherin  Slytherin"
            ]
          },
          "metadata": {
            "tags": []
          },
          "execution_count": 17
        }
      ]
    },
    {
      "cell_type": "code",
      "metadata": {
        "colab": {
          "base_uri": "https://localhost:8080/"
        },
        "id": "iQSbbTk7DkId",
        "outputId": "94c2b1eb-0af2-4ca7-fa50-5d4f008bcb93"
      },
      "source": [
        "from sklearn.metrics import classification_report, confusion_matrix, accuracy_score\n",
        "print(confusion_matrix(y_test,y_pred))\n",
        "print(classification_report(y_test,y_pred))\n",
        "print(accuracy_score(y_test, y_pred))"
      ],
      "execution_count": null,
      "outputs": [
        {
          "output_type": "stream",
          "text": [
            "[[3 0 2 1 0]\n",
            " [1 0 0 1 2]\n",
            " [0 0 6 0 0]\n",
            " [1 0 1 1 2]\n",
            " [0 0 0 1 4]]\n",
            "              precision    recall  f1-score   support\n",
            "\n",
            "  Gryffindor       0.60      0.50      0.55         6\n",
            "  Hufflepuff       0.00      0.00      0.00         4\n",
            "       Other       0.67      1.00      0.80         6\n",
            "   Ravenclaw       0.25      0.20      0.22         5\n",
            "   Slytherin       0.50      0.80      0.62         5\n",
            "\n",
            "    accuracy                           0.54        26\n",
            "   macro avg       0.40      0.50      0.44        26\n",
            "weighted avg       0.44      0.54      0.47        26\n",
            "\n",
            "0.5384615384615384\n"
          ],
          "name": "stdout"
        },
        {
          "output_type": "stream",
          "text": [
            "/usr/local/lib/python3.7/dist-packages/sklearn/metrics/_classification.py:1272: UndefinedMetricWarning: Precision and F-score are ill-defined and being set to 0.0 in labels with no predicted samples. Use `zero_division` parameter to control this behavior.\n",
            "  _warn_prf(average, modifier, msg_start, len(result))\n"
          ],
          "name": "stderr"
        }
      ]
    },
    {
      "cell_type": "code",
      "metadata": {
        "colab": {
          "base_uri": "https://localhost:8080/",
          "height": 410
        },
        "id": "ouRErjY8DkIe",
        "outputId": "0d662a79-b2e1-4e97-f1e9-650c33d9832d"
      },
      "source": [
        "from sklearn.metrics import plot_confusion_matrix\n",
        "import matplotlib.pyplot as plt\n",
        "\n",
        "print(set(final['House'].to_list()))\n",
        "# display_labels=set(final['House'].to_list())\n",
        "plt.rcParams[\"figure.figsize\"] = (20,6)\n",
        "disp = plot_confusion_matrix(model, X_test, y_test,\n",
        "                                 cmap=plt.cm.Blues)\n",
        "plt.ylabel('True classes')\n",
        "plt.xlabel('Predicted classes')\n",
        "plt.savefig(\"confusion.png\")\n",
        "\n",
        "\n",
        "\n",
        "\n",
        "plt.show()"
      ],
      "execution_count": null,
      "outputs": [
        {
          "output_type": "stream",
          "text": [
            "{'Other', 'Slytherin', 'Hufflepuff', 'Ravenclaw', 'Gryffindor'}\n"
          ],
          "name": "stdout"
        },
        {
          "output_type": "display_data",
          "data": {
            "image/png": "[encoded data removed]",
            "text/plain": [
              "<Figure size 1440x432 with 2 Axes>"
            ]
          },
          "metadata": {
            "tags": [],
            "needs_background": "light"
          }
        }
      ]
    },
    {
      "cell_type": "code",
      "metadata": {
        "colab": {
          "base_uri": "https://localhost:8080/"
        },
        "id": "ef3O9_IBz23V",
        "outputId": "2bdfd51f-500a-4e3c-a4d2-068e6bf66622"
      },
      "source": [
        "testing=pd.read_csv(\"testing.csv\",sep=\";\")\n",
        "y_testing = testing['House'].to_numpy()\n",
        "print(len(y_testing))\n",
        "X_testing=testing.drop([\"House\",\"Character\"],axis=1)\n",
        "y_predecting = model.predict(X_testing)\n",
        "print(pd.DataFrame([y_testing, y_predecting]))"
      ],
      "execution_count": null,
      "outputs": [
        {
          "output_type": "stream",
          "text": [
            "8\n",
            "            0           1           2           3          4          5          6          7\n",
            "0  Gryffindor  Gryffindor  Gryffindor  Gryffindor  Ravenclaw  Slytherin  Slytherin      Other\n",
            "1  Gryffindor  Gryffindor       Other       Other  Slytherin      Other      Other  Ravenclaw\n"
          ],
          "name": "stdout"
        }
      ]
    },
    {
      "cell_type": "code",
      "metadata": {
        "id": "B0t6M3iYDcft"
      },
      "source": [
        ""
      ],
      "execution_count": null,
      "outputs": []
    },
    {
      "cell_type": "markdown",
      "metadata": {
        "id": "WWv7aLuz60c5"
      },
      "source": [
        "# KNN Model "
      ]
    },
    {
      "cell_type": "code",
      "metadata": {
        "id": "TI4et8YPD38a"
      },
      "source": [
        ""
      ],
      "execution_count": null,
      "outputs": []
    }
  ]
}