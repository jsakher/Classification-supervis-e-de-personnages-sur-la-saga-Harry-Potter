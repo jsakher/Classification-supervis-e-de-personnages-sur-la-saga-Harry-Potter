{
 "cells": [
  {
   "cell_type": "markdown",
   "metadata": {},
   "source": [
    "## Méthode k-nn"
   ]
  },
  {
   "cell_type": "code",
   "execution_count": 1,
   "metadata": {},
   "outputs": [],
   "source": [
    "from functions import *\n"
   ]
  },
  {
   "cell_type": "code",
   "execution_count": 2,
   "metadata": {},
   "outputs": [],
   "source": [
    "from sklearn.neighbors import KNeighborsClassifier\n",
    "from sklearn.model_selection import train_test_split\n",
    "from sklearn.model_selection import GridSearchCV\n",
    "from sklearn.metrics import classification_report, confusion_matrix, accuracy_score\n",
    "from sklearn.model_selection import cross_val_score\n",
    "import statistics as stat"
   ]
  },
  {
   "source": [
    "## Script matrix : 25%"
   ],
   "cell_type": "markdown",
   "metadata": {}
  },
  {
   "cell_type": "code",
   "execution_count": 3,
   "metadata": {},
   "outputs": [],
   "source": [
    "matrix = pd.read_csv('../Data/Script_matrix.csv', sep=';', encoding='unicode_escape')"
   ]
  },
  {
   "cell_type": "code",
   "execution_count": 4,
   "metadata": {},
   "outputs": [],
   "source": [
    "new = pd.read_csv('../Data/Script_matrix_3.csv', sep=';', encoding='unicode_escape')"
   ]
  },
  {
   "cell_type": "code",
   "execution_count": 5,
   "metadata": {},
   "outputs": [],
   "source": [
    "Y = matrix['House']\n",
    "X = matrix.drop(['Character', 'House'], axis=1)"
   ]
  },
  {
   "cell_type": "code",
   "execution_count": 6,
   "metadata": {},
   "outputs": [],
   "source": [
    "Y_new = new['House']\n",
    "X_new = new.drop(['Character', 'House'], axis=1)"
   ]
  },
  {
   "cell_type": "code",
   "execution_count": 104,
   "metadata": {},
   "outputs": [],
   "source": [
    "grid_params = {\n",
    "    'n_neighbors': list(range(1, 21)),\n",
    "    'weights': ['uniform', 'distance']#,\n",
    "    #'metric': ['euclidean', 'manhattan']\n",
    "}\n",
    "\n",
    "score = 'accuracy'"
   ]
  },
  {
   "cell_type": "code",
   "execution_count": 105,
   "metadata": {},
   "outputs": [],
   "source": [
    "    gs = GridSearchCV(\n",
    "    KNeighborsClassifier(),\n",
    "    grid_params,\n",
    "    scoring=score,\n",
    "    n_jobs=-1,\n",
    "    cv=11\n",
    "    )\n",
    "\n",
    "    gs_results = gs.fit(X, Y)"
   ]
  },
  {
   "cell_type": "code",
   "execution_count": 106,
   "metadata": {},
   "outputs": [
    {
     "output_type": "stream",
     "name": "stdout",
     "text": [
      "{'n_neighbors': 9, 'weights': 'uniform'}\n0.43939393939393945\n"
     ]
    }
   ],
   "source": [
    "print(gs.best_params_)\n",
    "print(gs.best_score_)"
   ]
  },
  {
   "cell_type": "code",
   "execution_count": 107,
   "metadata": {},
   "outputs": [
    {
     "output_type": "execute_result",
     "data": {
      "text/plain": [
       "                    0           1           2           3          4  \\\n",
       "House      Gryffindor  Gryffindor  Gryffindor  Gryffindor  Ravenclaw   \n",
       "Unnamed 0       Other  Gryffindor       Other   Ravenclaw  Slytherin   \n",
       "\n",
       "                    5          6      7  \n",
       "House       Slytherin  Slytherin  Other  \n",
       "Unnamed 0  Gryffindor  Ravenclaw  Other  "
      ],
      "text/html": "<div>\n<style scoped>\n    .dataframe tbody tr th:only-of-type {\n        vertical-align: middle;\n    }\n\n    .dataframe tbody tr th {\n        vertical-align: top;\n    }\n\n    .dataframe thead th {\n        text-align: right;\n    }\n</style>\n<table border=\"1\" class=\"dataframe\">\n  <thead>\n    <tr style=\"text-align: right;\">\n      <th></th>\n      <th>0</th>\n      <th>1</th>\n      <th>2</th>\n      <th>3</th>\n      <th>4</th>\n      <th>5</th>\n      <th>6</th>\n      <th>7</th>\n    </tr>\n  </thead>\n  <tbody>\n    <tr>\n      <th>House</th>\n      <td>Gryffindor</td>\n      <td>Gryffindor</td>\n      <td>Gryffindor</td>\n      <td>Gryffindor</td>\n      <td>Ravenclaw</td>\n      <td>Slytherin</td>\n      <td>Slytherin</td>\n      <td>Other</td>\n    </tr>\n    <tr>\n      <th>Unnamed 0</th>\n      <td>Other</td>\n      <td>Gryffindor</td>\n      <td>Other</td>\n      <td>Ravenclaw</td>\n      <td>Slytherin</td>\n      <td>Gryffindor</td>\n      <td>Ravenclaw</td>\n      <td>Other</td>\n    </tr>\n  </tbody>\n</table>\n</div>"
     },
     "metadata": {},
     "execution_count": 107
    }
   ],
   "source": [
    "knn = KNeighborsClassifier(n_neighbors=9, weights='uniform')#, metric='uniform')\n",
    "knn.fit(X, Y)\n",
    "Y_pred = knn.predict(X_new)\n",
    "pd.DataFrame([Y_new, Y_pred])"
   ]
  },
  {
   "cell_type": "code",
   "execution_count": 108,
   "metadata": {},
   "outputs": [
    {
     "output_type": "execute_result",
     "data": {
      "text/plain": [
       "25.0"
      ]
     },
     "metadata": {},
     "execution_count": 108
    }
   ],
   "source": [
    "accuracy_score(Y_new, Y_pred)*100"
   ]
  },
  {
   "source": [
    "## Full matrix"
   ],
   "cell_type": "markdown",
   "metadata": {}
  },
  {
   "cell_type": "code",
   "execution_count": 109,
   "metadata": {},
   "outputs": [],
   "source": [
    "f_matrix = pd.read_csv('../Data/Final_matrix.csv', sep=';', encoding='unicode_escape')"
   ]
  },
  {
   "cell_type": "code",
   "execution_count": 110,
   "metadata": {},
   "outputs": [],
   "source": [
    "f_matrix_3 = pd.read_csv('../Data/Final_matrix_3.csv', sep=';', encoding='unicode_escape')"
   ]
  },
  {
   "cell_type": "code",
   "execution_count": 111,
   "metadata": {},
   "outputs": [],
   "source": [
    "Y_full = f_matrix['House']\n",
    "X_full = f_matrix.drop(['Character', 'House'], axis=1)"
   ]
  },
  {
   "cell_type": "code",
   "execution_count": 112,
   "metadata": {},
   "outputs": [],
   "source": [
    "Y_full_new = f_matrix_3['House']\n",
    "X_full_new = f_matrix_3.drop(['Character', 'House'], axis=1)"
   ]
  },
  {
   "cell_type": "code",
   "execution_count": 113,
   "metadata": {},
   "outputs": [],
   "source": [
    "grid_params = {\n",
    "    'n_neighbors': list(range(1, 101)),\n",
    "    'weights': ['uniform', 'distance']#,\n",
    "    #'metric': ['euclidean', 'manhattan']\n",
    "}\n",
    "\n",
    "score = 'accuracy'"
   ]
  },
  {
   "cell_type": "code",
   "execution_count": 114,
   "metadata": {},
   "outputs": [],
   "source": [
    "gs_full = GridSearchCV(\n",
    "KNeighborsClassifier(),\n",
    "grid_params,\n",
    "scoring=score,\n",
    "n_jobs=-1,\n",
    "cv=11\n",
    ")\n",
    "\n",
    "gs_full_results = gs_full.fit(X_full, Y_full)"
   ]
  },
  {
   "cell_type": "code",
   "execution_count": 115,
   "metadata": {},
   "outputs": [
    {
     "output_type": "stream",
     "name": "stdout",
     "text": [
      "parameters : {'n_neighbors': 11, 'weights': 'distance'}\naccuracy_score : 0.5550964187327824\n"
     ]
    }
   ],
   "source": [
    "print('parameters :', gs_full.best_params_)\n",
    "print('accuracy_score :', gs_full.best_score_)"
   ]
  },
  {
   "cell_type": "code",
   "execution_count": 116,
   "metadata": {},
   "outputs": [
    {
     "output_type": "execute_result",
     "data": {
      "text/plain": [
       "                    0           1           2           3          4  \\\n",
       "House      Gryffindor  Gryffindor  Gryffindor  Gryffindor  Ravenclaw   \n",
       "Unnamed 0   Slytherin  Gryffindor   Slytherin  Gryffindor  Slytherin   \n",
       "\n",
       "                   5          6      7  \n",
       "House      Slytherin  Slytherin  Other  \n",
       "Unnamed 0  Slytherin  Ravenclaw  Other  "
      ],
      "text/html": "<div>\n<style scoped>\n    .dataframe tbody tr th:only-of-type {\n        vertical-align: middle;\n    }\n\n    .dataframe tbody tr th {\n        vertical-align: top;\n    }\n\n    .dataframe thead th {\n        text-align: right;\n    }\n</style>\n<table border=\"1\" class=\"dataframe\">\n  <thead>\n    <tr style=\"text-align: right;\">\n      <th></th>\n      <th>0</th>\n      <th>1</th>\n      <th>2</th>\n      <th>3</th>\n      <th>4</th>\n      <th>5</th>\n      <th>6</th>\n      <th>7</th>\n    </tr>\n  </thead>\n  <tbody>\n    <tr>\n      <th>House</th>\n      <td>Gryffindor</td>\n      <td>Gryffindor</td>\n      <td>Gryffindor</td>\n      <td>Gryffindor</td>\n      <td>Ravenclaw</td>\n      <td>Slytherin</td>\n      <td>Slytherin</td>\n      <td>Other</td>\n    </tr>\n    <tr>\n      <th>Unnamed 0</th>\n      <td>Slytherin</td>\n      <td>Gryffindor</td>\n      <td>Slytherin</td>\n      <td>Gryffindor</td>\n      <td>Slytherin</td>\n      <td>Slytherin</td>\n      <td>Ravenclaw</td>\n      <td>Other</td>\n    </tr>\n  </tbody>\n</table>\n</div>"
     },
     "metadata": {},
     "execution_count": 116
    }
   ],
   "source": [
    "knn_full = KNeighborsClassifier(n_neighbors=11, weights='distance')#, metric='manhattan')\n",
    "knn_full.fit(X_full, Y_full)\n",
    "Y_full_pred = knn_full.predict(X_full_new)\n",
    "pd.DataFrame([Y_full_new, Y_full_pred])"
   ]
  },
  {
   "cell_type": "code",
   "execution_count": 117,
   "metadata": {},
   "outputs": [
    {
     "output_type": "execute_result",
     "data": {
      "text/plain": [
       "50.0"
      ]
     },
     "metadata": {},
     "execution_count": 117
    }
   ],
   "source": [
    "accuracy_score(Y_full_new, Y_full_pred)*100"
   ]
  }
 ],
 "metadata": {
  "kernelspec": {
   "name": "python391jvsc74a57bd048c940b1a0169745cfa7f02364c75403232fed0c64e3dce84b9adcd146d0dc24",
   "display_name": "Python 3.9.1 64-bit ('project_M1': conda)"
  },
  "language_info": {
   "codemirror_mode": {
    "name": "ipython",
    "version": 3
   },
   "file_extension": ".py",
   "mimetype": "text/x-python",
   "name": "python",
   "nbconvert_exporter": "python",
   "pygments_lexer": "ipython3",
   "version": "3.9.1"
  }
 },
 "nbformat": 4,
 "nbformat_minor": 4
}